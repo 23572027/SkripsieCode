{
 "cells": [
  {
   "cell_type": "code",
   "execution_count": 1,
   "metadata": {},
   "outputs": [],
   "source": [
    "import re\n",
    "import os\n",
    "import numpy as np\n",
    "from progress.bar import Bar\n",
    "from tqdm import tqdm\n"
   ]
  },
  {
   "cell_type": "code",
   "execution_count": 2,
   "id": "c6d74f1d",
   "metadata": {},
   "outputs": [],
   "source": [
    "\n",
    "def writeRadius(r1,r2):\n",
    "    lpMesh = open(\"loop.geo\", \"r\")\n",
    "    loopMesh = lpMesh.read()\n",
    "    lpMesh.close()\n",
    "\n",
    "    reg1 = r\"(%r1)\"\n",
    "    reg2 = r\"(%r2)\"\n",
    "\n",
    "    sub1 = str(r1)\n",
    "    sub2 = str(r2)\n",
    "\n",
    "    loopMesh = re.sub(reg1,sub1,loopMesh,0,re.MULTILINE)\n",
    "    loopMesh = re.sub(reg2,sub2,loopMesh,0,re.MULTILINE)\n",
    "\n",
    "    try:\n",
    "        lpTemp = open(\"loopTemp.geo\", \"x\")\n",
    "    except:\n",
    "        os.remove(\"loopTemp.geo\")\n",
    "        lpTemp = open(\"loopTemp.geo\",\"x\")\n",
    "\n",
    "    lpTemp.write(loopMesh)\n",
    "    lpTemp.close()\n",
    "\n",
    "\n",
    "    # write surface mesh\n",
    "    lpMesh = open(\"loopFIELD.geo\", \"r\")\n",
    "    loopMesh = lpMesh.read()\n",
    "    lpMesh.close()\n",
    "    reg1 = r\"(%r1)\"\n",
    "    reg2 = r\"(%r2)\"\n",
    "    sub1 = str(r1)\n",
    "    sub2 = str(r2)\n",
    "    loopMesh = re.sub(reg1,sub1,loopMesh,0,re.MULTILINE)\n",
    "    loopMesh = re.sub(reg2,sub2,loopMesh,0,re.MULTILINE)\n",
    "    try:\n",
    "        lpTemp = open(\"loopFIELDTemp.geo\", \"x\")\n",
    "    except:\n",
    "        os.remove(\"loopFIELDTemp.geo\")\n",
    "        lpTemp = open(\"loopFIELDTemp.geo\",\"x\")\n",
    "    lpTemp.write(loopMesh)\n",
    "    lpTemp.close()\n",
    "\n",
    "def runGMSH():\n",
    "    print(\"Meshing geometry\")\n",
    "    os.system(\"gmsh loopFIELDTemp.geo -nopopup -0 -v 1\")\n",
    "    os.system(\"gmsh loopTemp.geo -nopopup -0 -v 1\")\n",
    "    try:\n",
    "        os.system(\"rm *.geo_unrolled\")\n",
    "        os.remove(\"loopFIELDTemp.geo\")\n",
    "        os.remove(\"loopTemp.geo\")\n",
    "    except:\n",
    "        print(\"nope\")\n",
    "    print(\"Done meshing\\n\")\n",
    "\n",
    "\n",
    "def runTTH():\n",
    "    print(\"Running tth settings_washer.json >/dev/null 2>&1\")\n",
    "    os.system(\"tth settings_washer.json >/dev/null 2>&1\")\n",
    "    print(\"Done\\n\")\n",
    "\n",
    "\n",
    "def getCurrent():\n",
    "    iFile = open(\"./output/i.txt\")\n",
    "    it = iFile.read()\n",
    "    iFile.close()\n",
    "    reg = r\"fone fone .+ (\\d*\\.\\d*e-\\d*)\"\n",
    "    i_s = re.findall(reg,it,re.MULTILINE)[0]\n",
    "    return i_s\n",
    "    \n",
    "def runNoiseEx(b_path,current):\n",
    "    path = \"../../cmake-build-debug/nex\"\n",
    "    print(\"Running \"+path+\" \"+b_path+\" \"+current)\n",
    "    val = os.popen(path+\" \"+b_path+\" \"+current).read()\n",
    "    print(\"Done with tth!\\n\")\n",
    "    return val[:-1]\n",
    "\n",
    "\n",
    "def runSim():\n",
    "    # First we change loop radius\n",
    "    r2s = np.linspace(0.1e-6, 2e-6, 10)\n",
    "\n",
    "# writeRadius(15e-6, 0.2e-6)\n",
    "\n",
    "# runGMSH()\n",
    "\n",
    "# runTTH()\n",
    "\n",
    "# i = getCurrent()\n",
    "\n",
    "# runNoiseEx(\"/home/paul/Skripsie/Code/SkripsieCode/cpp/noiseEX/testfiles/aVSn/output/loop_test.vtk\",i)\n",
    "\n",
    "\n",
    "# runSim()"
   ]
  },
  {
   "cell_type": "markdown",
   "id": "3ea00c5a",
   "metadata": {},
   "source": [
    "## Varying D and keeping R fixed"
   ]
  },
  {
   "cell_type": "code",
   "execution_count": 3,
   "id": "b1006154",
   "metadata": {},
   "outputs": [
    {
     "name": "stderr",
     "output_type": "stream",
     "text": [
      "  0%|          | 0/10 [00:00<?, ?it/s]"
     ]
    },
    {
     "name": "stdout",
     "output_type": "stream",
     "text": [
      "Meshing geometry\n",
      "Done meshing\n",
      "\n",
      "Running tth settings_washer.json >/dev/null 2>&1\n",
      "Done\n",
      "\n",
      "Running ../../cmake-build-debug/nex /home/paul/Skripsie/Code/SkripsieCode/cpp/noiseEX/testfiles/aVSn/output/loop_test.vtk 4.8088371067e-02\n"
     ]
    },
    {
     "name": "stderr",
     "output_type": "stream",
     "text": [
      " 10%|█         | 1/10 [01:36<14:32, 96.90s/it]"
     ]
    },
    {
     "name": "stdout",
     "output_type": "stream",
     "text": [
      "Done with tth!\n",
      "\n",
      "Meshing geometry\n",
      "Done meshing\n",
      "\n",
      "Running tth settings_washer.json >/dev/null 2>&1\n",
      "Done\n",
      "\n",
      "Running ../../cmake-build-debug/nex /home/paul/Skripsie/Code/SkripsieCode/cpp/noiseEX/testfiles/aVSn/output/loop_test.vtk 1.5373475845e-01\n"
     ]
    },
    {
     "name": "stderr",
     "output_type": "stream",
     "text": [
      " 20%|██        | 2/10 [02:02<07:19, 54.95s/it]"
     ]
    },
    {
     "name": "stdout",
     "output_type": "stream",
     "text": [
      "Done with tth!\n",
      "\n",
      "Meshing geometry\n",
      "Done meshing\n",
      "\n",
      "Running tth settings_washer.json >/dev/null 2>&1\n"
     ]
    },
    {
     "name": "stderr",
     "output_type": "stream",
     "text": [
      " 30%|███       | 3/10 [02:17<04:15, 36.55s/it]"
     ]
    },
    {
     "name": "stdout",
     "output_type": "stream",
     "text": [
      "Done\n",
      "\n",
      "Running ../../cmake-build-debug/nex /home/paul/Skripsie/Code/SkripsieCode/cpp/noiseEX/testfiles/aVSn/output/loop_test.vtk 2.0299990729e-01\n",
      "Done with tth!\n",
      "\n",
      "Meshing geometry\n",
      "Done meshing\n",
      "\n",
      "Running tth settings_washer.json >/dev/null 2>&1\n"
     ]
    },
    {
     "name": "stderr",
     "output_type": "stream",
     "text": [
      " 40%|████      | 4/10 [02:28<02:39, 26.55s/it]"
     ]
    },
    {
     "name": "stdout",
     "output_type": "stream",
     "text": [
      "Done\n",
      "\n",
      "Running ../../cmake-build-debug/nex /home/paul/Skripsie/Code/SkripsieCode/cpp/noiseEX/testfiles/aVSn/output/loop_test.vtk 2.3475546088e-01\n",
      "Done with tth!\n",
      "\n",
      "Meshing geometry\n",
      "Done meshing\n",
      "\n",
      "Running tth settings_washer.json >/dev/null 2>&1\n"
     ]
    },
    {
     "name": "stderr",
     "output_type": "stream",
     "text": [
      " 50%|█████     | 5/10 [02:36<01:39, 19.85s/it]"
     ]
    },
    {
     "name": "stdout",
     "output_type": "stream",
     "text": [
      "Done\n",
      "\n",
      "Running ../../cmake-build-debug/nex /home/paul/Skripsie/Code/SkripsieCode/cpp/noiseEX/testfiles/aVSn/output/loop_test.vtk 2.5971354928e-01\n",
      "Done with tth!\n",
      "\n",
      "Meshing geometry\n",
      "Done meshing\n",
      "\n",
      "Running tth settings_washer.json >/dev/null 2>&1\n"
     ]
    },
    {
     "name": "stderr",
     "output_type": "stream",
     "text": [
      " 60%|██████    | 6/10 [02:43<01:02, 15.67s/it]"
     ]
    },
    {
     "name": "stdout",
     "output_type": "stream",
     "text": [
      "Done\n",
      "\n",
      "Running ../../cmake-build-debug/nex /home/paul/Skripsie/Code/SkripsieCode/cpp/noiseEX/testfiles/aVSn/output/loop_test.vtk 2.8153250793e-01\n",
      "Done with tth!\n",
      "\n",
      "Meshing geometry\n",
      "Done meshing\n",
      "\n",
      "Running tth settings_washer.json >/dev/null 2>&1\n"
     ]
    },
    {
     "name": "stderr",
     "output_type": "stream",
     "text": [
      " 70%|███████   | 7/10 [02:50<00:37, 12.66s/it]"
     ]
    },
    {
     "name": "stdout",
     "output_type": "stream",
     "text": [
      "Done\n",
      "\n",
      "Running ../../cmake-build-debug/nex /home/paul/Skripsie/Code/SkripsieCode/cpp/noiseEX/testfiles/aVSn/output/loop_test.vtk 3.0173476887e-01\n",
      "Done with tth!\n",
      "\n",
      "Meshing geometry\n",
      "Done meshing\n",
      "\n",
      "Running tth settings_washer.json >/dev/null 2>&1\n"
     ]
    },
    {
     "name": "stderr",
     "output_type": "stream",
     "text": [
      " 80%|████████  | 8/10 [02:57<00:21, 10.89s/it]"
     ]
    },
    {
     "name": "stdout",
     "output_type": "stream",
     "text": [
      "Done\n",
      "\n",
      "Running ../../cmake-build-debug/nex /home/paul/Skripsie/Code/SkripsieCode/cpp/noiseEX/testfiles/aVSn/output/loop_test.vtk 3.2242324686e-01\n",
      "Done with tth!\n",
      "\n",
      "Meshing geometry\n",
      "Done meshing\n",
      "\n",
      "Running tth settings_washer.json >/dev/null 2>&1\n"
     ]
    },
    {
     "name": "stderr",
     "output_type": "stream",
     "text": [
      " 90%|█████████ | 9/10 [03:05<00:10, 10.14s/it]"
     ]
    },
    {
     "name": "stdout",
     "output_type": "stream",
     "text": [
      "Done\n",
      "\n",
      "Running ../../cmake-build-debug/nex /home/paul/Skripsie/Code/SkripsieCode/cpp/noiseEX/testfiles/aVSn/output/loop_test.vtk 3.4983923241e-01\n",
      "Done with tth!\n",
      "\n",
      "Meshing geometry\n",
      "Done meshing\n",
      "\n",
      "Running tth settings_washer.json >/dev/null 2>&1\n"
     ]
    },
    {
     "name": "stderr",
     "output_type": "stream",
     "text": [
      "100%|██████████| 10/10 [03:17<00:00, 19.80s/it]"
     ]
    },
    {
     "name": "stdout",
     "output_type": "stream",
     "text": [
      "Done\n",
      "\n",
      "Running ../../cmake-build-debug/nex /home/paul/Skripsie/Code/SkripsieCode/cpp/noiseEX/testfiles/aVSn/output/loop_test.vtk 3.7405027060e-01\n",
      "Done with tth!\n",
      "\n"
     ]
    },
    {
     "name": "stderr",
     "output_type": "stream",
     "text": [
      "\n"
     ]
    }
   ],
   "source": [
    "\n",
    "SPIN_DENS = 5e17\n",
    "MU_B = 9.2740100783e-24\n",
    "PHI_0 = 2.067833848e-15\n",
    "MU_0 = 1.25663706212e-6 \t\n",
    "Analytic = lambda R, D : 2/3*MU_0**2*MU_B**2*SPIN_DENS*R/D*1/(PHI_0**2)\n",
    "\n",
    "r1 = 15e-6\n",
    "r2s = np.linspace(0.09e-6, 1.5e-6, 30)\n",
    "\n",
    "\n",
    "try:\n",
    "    os.remove(\"resFIX_R_2.csv\")\n",
    "except:\n",
    "    pass\n",
    "\n",
    "res = open(\"resFIX_R_2.csv\",\"w\")\n",
    "res.write(\"R,D,Analytic,Numerical\\n\")\n",
    "\n",
    "for r2 in tqdm(r2s):\n",
    "    writeRadius(r1, r2)\n",
    "    runGMSH()\n",
    "    runTTH()\n",
    "    i = getCurrent()\n",
    "    msfn_numerical = runNoiseEx(\"/home/paul/Skripsie/Code/SkripsieCode/cpp/noiseEX/testfiles/aVSn/output/loop_test.vtk\",i)\n",
    "    msfn_analytical = Analytic(r1,r2*2)\n",
    "    # write result to file\n",
    "    res.write(f\"{r1},{2*r2},{msfn_analytical},{msfn_numerical}\\n\")\n",
    "\n",
    "\n",
    "\n",
    "res.close()\n",
    "\n"
   ]
  }
 ],
 "metadata": {
  "kernelspec": {
   "display_name": "Python 3",
   "language": "python",
   "name": "python3"
  },
  "language_info": {
   "codemirror_mode": {
    "name": "ipython",
    "version": 3
   },
   "file_extension": ".py",
   "mimetype": "text/x-python",
   "name": "python",
   "nbconvert_exporter": "python",
   "pygments_lexer": "ipython3",
   "version": "3.10.11"
  }
 },
 "nbformat": 4,
 "nbformat_minor": 5
}
