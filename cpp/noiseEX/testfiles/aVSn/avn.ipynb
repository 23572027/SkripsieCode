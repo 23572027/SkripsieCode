{
 "cells": [
  {
   "cell_type": "code",
   "execution_count": 1,
   "metadata": {},
   "outputs": [],
   "source": [
    "import re\n",
    "import os\n",
    "import numpy as np\n",
    "from progress.bar import Bar\n",
    "from tqdm import tqdm\n"
   ]
  },
  {
   "cell_type": "code",
   "execution_count": 62,
   "id": "c6d74f1d",
   "metadata": {},
   "outputs": [],
   "source": [
    "\n",
    "def writeRadius(r1,r2):\n",
    "    lpMesh = open(\"loop.geo\", \"r\")\n",
    "    loopMesh = lpMesh.read()\n",
    "    lpMesh.close()\n",
    "\n",
    "    reg1 = r\"(%r1)\"\n",
    "    reg2 = r\"(%r2)\"\n",
    "\n",
    "    sub1 = str(r1)\n",
    "    sub2 = str(r2)\n",
    "\n",
    "    loopMesh = re.sub(reg1,sub1,loopMesh,0,re.MULTILINE)\n",
    "    loopMesh = re.sub(reg2,sub2,loopMesh,0,re.MULTILINE)\n",
    "\n",
    "    try:\n",
    "        lpTemp = open(\"loopTemp.geo\", \"x\")\n",
    "    except:\n",
    "        os.remove(\"loopTemp.geo\")\n",
    "        lpTemp = open(\"loopTemp.geo\",\"x\")\n",
    "\n",
    "    lpTemp.write(loopMesh)\n",
    "    lpTemp.close()\n",
    "\n",
    "\n",
    "    # write surface mesh\n",
    "    lpMesh = open(\"loopFIELD.geo\", \"r\")\n",
    "    loopMesh = lpMesh.read()\n",
    "    lpMesh.close()\n",
    "    reg1 = r\"(%r1)\"\n",
    "    reg2 = r\"(%r2)\"\n",
    "    sub1 = str(r1)\n",
    "    sub2 = str(r2)\n",
    "    loopMesh = re.sub(reg1,sub1,loopMesh,0,re.MULTILINE)\n",
    "    loopMesh = re.sub(reg2,sub2,loopMesh,0,re.MULTILINE)\n",
    "    try:\n",
    "        lpTemp = open(\"loopFIELDTemp.geo\", \"x\")\n",
    "    except:\n",
    "        os.remove(\"loopFIELDTemp.geo\")\n",
    "        lpTemp = open(\"loopFIELDTemp.geo\",\"x\")\n",
    "    lpTemp.write(loopMesh)\n",
    "    lpTemp.close()\n",
    "\n",
    "def runGMSH():\n",
    "    print(f\"{os.getpid()}: Meshing geometry\\n\")\n",
    "    # os.system(\"gmsh loopFIELDTemp.geo -nopopup -0 -v 1\")\n",
    "    # os.system(\"gmsh loopTemp.geo -nopopup -0 -v 1\")\n",
    "    os.popen(\"gmsh loopFIELDTemp.geo -nopopup -0 -v 1\").read()\n",
    "    os.popen(\"gmsh loopTemp.geo -nopopup -0 -v 1\").read()\n",
    "    try:\n",
    "        os.system(\"rm *.geo_unrolled\")\n",
    "        os.remove(\"loopFIELDTemp.geo\")\n",
    "        os.remove(\"loopTemp.geo\")\n",
    "    except:\n",
    "        print(\"nope\")\n",
    "    print(f\"{os.getpid()}: Done meshing\\n\")\n",
    "\n",
    "\n",
    "def runTTH():\n",
    "    print(f\"{os.getpid()}: Running tth settings_washer.json >/dev/null 2>&1\")\n",
    "    os.system(\"tth settings_washer.json >/dev/null 2>&1\")\n",
    "    print(f\"{os.getpid()}: Done\\n\")\n",
    "\n",
    "\n",
    "def getCurrent():\n",
    "    iFile = open(\"./output/i.txt\")\n",
    "    it = iFile.read()\n",
    "    iFile.close()\n",
    "    reg = r\"fone fone .+ (\\d*\\.\\d*e-\\d*)\"\n",
    "    i_s = re.findall(reg,it,re.MULTILINE)[0]\n",
    "    return i_s\n",
    "    \n",
    "def runNoiseEx(b_path,current):\n",
    "    path = \"/home/paul/Skripsie/Code/SkripsieCode/cpp/noiseEX/cmake-build-debug/nex\"\n",
    "    print(f\"{os.getpid()}: Running \"+path+\" \"+b_path+\" \"+current)\n",
    "    v = os.popen(path+\" \"+b_path+\" \"+current).read()\n",
    "    print(f\"{os.getpid()}: Done\\n\")\n",
    "    v = v.split(\"\\n\")\n",
    "    return v\n",
    "\n",
    "\n",
    "def runSim():\n",
    "    # First we change loop radius\n",
    "    r2s = np.linspace(0.1e-6, 2e-6, 10)\n",
    "\n",
    "# writeRadius(15e-6, 0.2e-6)\n",
    "\n",
    "# runGMSH()\n",
    "\n",
    "# runTTH()\n",
    "\n",
    "# i = getCurrent()\n",
    "\n",
    "# runNoiseEx(\"/home/paul/Skripsie/Code/SkripsieCode/cpp/noiseEX/testfiles/aVSn/output/loop_test.vtk\",i)\n",
    "\n",
    "\n",
    "# runSim()"
   ]
  },
  {
   "cell_type": "markdown",
   "id": "3ea00c5a",
   "metadata": {},
   "source": [
    "## Varying D and keeping R fixed"
   ]
  },
  {
   "cell_type": "code",
   "execution_count": 4,
   "id": "b1006154",
   "metadata": {},
   "outputs": [
    {
     "name": "stderr",
     "output_type": "stream",
     "text": [
      "  0%|          | 0/30 [00:00<?, ?it/s]"
     ]
    },
    {
     "name": "stdout",
     "output_type": "stream",
     "text": [
      "Meshing geometry\n",
      "Done meshing\n",
      "\n",
      "Running tth settings_washer.json >/dev/null 2>&1\n",
      "Done\n",
      "\n",
      "Running ../../cmake-build-debug/nex /home/paul/Skripsie/Code/SkripsieCode/cpp/noiseEX/testfiles/aVSn/output/loop_test.vtk 4.1148850270e-02\n"
     ]
    },
    {
     "name": "stderr",
     "output_type": "stream",
     "text": [
      "  3%|▎         | 1/30 [01:56<56:04, 116.01s/it]"
     ]
    },
    {
     "name": "stdout",
     "output_type": "stream",
     "text": [
      "Done with tth!\n",
      "\n",
      "Meshing geometry\n",
      "Done meshing\n",
      "\n",
      "Running tth settings_washer.json >/dev/null 2>&1\n",
      "Done\n",
      "\n",
      "Running ../../cmake-build-debug/nex /home/paul/Skripsie/Code/SkripsieCode/cpp/noiseEX/testfiles/aVSn/output/loop_test.vtk 7.4224615707e-02\n"
     ]
    },
    {
     "name": "stderr",
     "output_type": "stream",
     "text": [
      "  7%|▋         | 2/30 [02:59<39:38, 84.96s/it] "
     ]
    },
    {
     "name": "stdout",
     "output_type": "stream",
     "text": [
      "Done with tth!\n",
      "\n",
      "Meshing geometry\n",
      "Done meshing\n",
      "\n",
      "Running tth settings_washer.json >/dev/null 2>&1\n",
      "Done\n",
      "\n",
      "Running ../../cmake-build-debug/nex /home/paul/Skripsie/Code/SkripsieCode/cpp/noiseEX/testfiles/aVSn/output/loop_test.vtk 1.0282731161e-01\n"
     ]
    },
    {
     "name": "stderr",
     "output_type": "stream",
     "text": [
      " 10%|█         | 3/30 [03:41<29:32, 65.65s/it]"
     ]
    },
    {
     "name": "stdout",
     "output_type": "stream",
     "text": [
      "Done with tth!\n",
      "\n",
      "Meshing geometry\n",
      "Done meshing\n",
      "\n",
      "Running tth settings_washer.json >/dev/null 2>&1\n",
      "Done\n",
      "\n",
      "Running ../../cmake-build-debug/nex /home/paul/Skripsie/Code/SkripsieCode/cpp/noiseEX/testfiles/aVSn/output/loop_test.vtk 1.2605954589e-01\n"
     ]
    },
    {
     "name": "stderr",
     "output_type": "stream",
     "text": [
      " 13%|█▎        | 4/30 [04:15<23:00, 53.11s/it]"
     ]
    },
    {
     "name": "stdout",
     "output_type": "stream",
     "text": [
      "Done with tth!\n",
      "\n",
      "Meshing geometry\n",
      "Done meshing\n",
      "\n",
      "Running tth settings_washer.json >/dev/null 2>&1\n",
      "Done\n",
      "\n",
      "Running ../../cmake-build-debug/nex /home/paul/Skripsie/Code/SkripsieCode/cpp/noiseEX/testfiles/aVSn/output/loop_test.vtk 1.4489339532e-01\n"
     ]
    },
    {
     "name": "stderr",
     "output_type": "stream",
     "text": [
      " 17%|█▋        | 5/30 [04:45<18:38, 44.75s/it]"
     ]
    },
    {
     "name": "stdout",
     "output_type": "stream",
     "text": [
      "Done with tth!\n",
      "\n",
      "Meshing geometry\n",
      "Done meshing\n",
      "\n",
      "Running tth settings_washer.json >/dev/null 2>&1\n",
      "Done\n",
      "\n",
      "Running ../../cmake-build-debug/nex /home/paul/Skripsie/Code/SkripsieCode/cpp/noiseEX/testfiles/aVSn/output/loop_test.vtk 1.6043079263e-01\n"
     ]
    },
    {
     "name": "stderr",
     "output_type": "stream",
     "text": [
      " 20%|██        | 6/30 [05:09<15:00, 37.53s/it]"
     ]
    },
    {
     "name": "stdout",
     "output_type": "stream",
     "text": [
      "Done with tth!\n",
      "\n",
      "Meshing geometry\n",
      "Done meshing\n",
      "\n",
      "Running tth settings_washer.json >/dev/null 2>&1\n",
      "Done\n",
      "\n",
      "Running ../../cmake-build-debug/nex /home/paul/Skripsie/Code/SkripsieCode/cpp/noiseEX/testfiles/aVSn/output/loop_test.vtk 1.7355750552e-01\n"
     ]
    },
    {
     "name": "stderr",
     "output_type": "stream",
     "text": [
      " 23%|██▎       | 7/30 [05:30<12:21, 32.25s/it]"
     ]
    },
    {
     "name": "stdout",
     "output_type": "stream",
     "text": [
      "Done with tth!\n",
      "\n",
      "Meshing geometry\n",
      "Done meshing\n",
      "\n",
      "Running tth settings_washer.json >/dev/null 2>&1\n",
      "Done\n",
      "\n",
      "Running ../../cmake-build-debug/nex /home/paul/Skripsie/Code/SkripsieCode/cpp/noiseEX/testfiles/aVSn/output/loop_test.vtk 1.8498271230e-01\n"
     ]
    },
    {
     "name": "stderr",
     "output_type": "stream",
     "text": [
      " 27%|██▋       | 8/30 [05:48<10:08, 27.68s/it]"
     ]
    },
    {
     "name": "stdout",
     "output_type": "stream",
     "text": [
      "Done with tth!\n",
      "\n",
      "Meshing geometry\n",
      "Done meshing\n",
      "\n",
      "Running tth settings_washer.json >/dev/null 2>&1\n"
     ]
    },
    {
     "name": "stderr",
     "output_type": "stream",
     "text": [
      " 30%|███       | 9/30 [06:04<08:26, 24.14s/it]"
     ]
    },
    {
     "name": "stdout",
     "output_type": "stream",
     "text": [
      "Done\n",
      "\n",
      "Running ../../cmake-build-debug/nex /home/paul/Skripsie/Code/SkripsieCode/cpp/noiseEX/testfiles/aVSn/output/loop_test.vtk 1.9493411476e-01\n",
      "Done with tth!\n",
      "\n",
      "Meshing geometry\n",
      "Done meshing\n",
      "\n",
      "Running tth settings_washer.json >/dev/null 2>&1\n"
     ]
    },
    {
     "name": "stderr",
     "output_type": "stream",
     "text": [
      " 33%|███▎      | 10/30 [06:19<07:04, 21.21s/it]"
     ]
    },
    {
     "name": "stdout",
     "output_type": "stream",
     "text": [
      "Done\n",
      "\n",
      "Running ../../cmake-build-debug/nex /home/paul/Skripsie/Code/SkripsieCode/cpp/noiseEX/testfiles/aVSn/output/loop_test.vtk 2.0390445098e-01\n",
      "Done with tth!\n",
      "\n",
      "Meshing geometry\n",
      "Done meshing\n",
      "\n",
      "Running tth settings_washer.json >/dev/null 2>&1\n"
     ]
    },
    {
     "name": "stderr",
     "output_type": "stream",
     "text": [
      " 37%|███▋      | 11/30 [06:34<06:04, 19.19s/it]"
     ]
    },
    {
     "name": "stdout",
     "output_type": "stream",
     "text": [
      "Done\n",
      "\n",
      "Running ../../cmake-build-debug/nex /home/paul/Skripsie/Code/SkripsieCode/cpp/noiseEX/testfiles/aVSn/output/loop_test.vtk 2.1213322840e-01\n",
      "Done with tth!\n",
      "\n",
      "Meshing geometry\n",
      "Done meshing\n",
      "\n",
      "Running tth settings_washer.json >/dev/null 2>&1\n"
     ]
    },
    {
     "name": "stderr",
     "output_type": "stream",
     "text": [
      " 40%|████      | 12/30 [06:48<05:17, 17.66s/it]"
     ]
    },
    {
     "name": "stdout",
     "output_type": "stream",
     "text": [
      "Done\n",
      "\n",
      "Running ../../cmake-build-debug/nex /home/paul/Skripsie/Code/SkripsieCode/cpp/noiseEX/testfiles/aVSn/output/loop_test.vtk 2.1966910448e-01\n",
      "Done with tth!\n",
      "\n",
      "Meshing geometry\n",
      "Done meshing\n",
      "\n",
      "Running tth settings_washer.json >/dev/null 2>&1\n"
     ]
    },
    {
     "name": "stderr",
     "output_type": "stream",
     "text": [
      " 43%|████▎     | 13/30 [06:59<04:28, 15.79s/it]"
     ]
    },
    {
     "name": "stdout",
     "output_type": "stream",
     "text": [
      "Done\n",
      "\n",
      "Running ../../cmake-build-debug/nex /home/paul/Skripsie/Code/SkripsieCode/cpp/noiseEX/testfiles/aVSn/output/loop_test.vtk 2.2665888993e-01\n",
      "Done with tth!\n",
      "\n",
      "Meshing geometry\n",
      "Done meshing\n",
      "\n",
      "Running tth settings_washer.json >/dev/null 2>&1\n"
     ]
    },
    {
     "name": "stderr",
     "output_type": "stream",
     "text": [
      " 47%|████▋     | 14/30 [07:11<03:53, 14.62s/it]"
     ]
    },
    {
     "name": "stdout",
     "output_type": "stream",
     "text": [
      "Done\n",
      "\n",
      "Running ../../cmake-build-debug/nex /home/paul/Skripsie/Code/SkripsieCode/cpp/noiseEX/testfiles/aVSn/output/loop_test.vtk 2.3334278700e-01\n",
      "Done with tth!\n",
      "\n",
      "Meshing geometry\n",
      "Done meshing\n",
      "\n",
      "Running tth settings_washer.json >/dev/null 2>&1\n"
     ]
    },
    {
     "name": "stderr",
     "output_type": "stream",
     "text": [
      " 50%|█████     | 15/30 [07:22<03:21, 13.43s/it]"
     ]
    },
    {
     "name": "stdout",
     "output_type": "stream",
     "text": [
      "Done\n",
      "\n",
      "Running ../../cmake-build-debug/nex /home/paul/Skripsie/Code/SkripsieCode/cpp/noiseEX/testfiles/aVSn/output/loop_test.vtk 2.3950298547e-01\n",
      "Done with tth!\n",
      "\n",
      "Meshing geometry\n",
      "Done meshing\n",
      "\n",
      "Running tth settings_washer.json >/dev/null 2>&1\n"
     ]
    },
    {
     "name": "stderr",
     "output_type": "stream",
     "text": [
      " 53%|█████▎    | 16/30 [07:32<02:55, 12.52s/it]"
     ]
    },
    {
     "name": "stdout",
     "output_type": "stream",
     "text": [
      "Done\n",
      "\n",
      "Running ../../cmake-build-debug/nex /home/paul/Skripsie/Code/SkripsieCode/cpp/noiseEX/testfiles/aVSn/output/loop_test.vtk 2.4550180403e-01\n",
      "Done with tth!\n",
      "\n",
      "Meshing geometry\n",
      "Done meshing\n",
      "\n",
      "Running tth settings_washer.json >/dev/null 2>&1\n"
     ]
    },
    {
     "name": "stderr",
     "output_type": "stream",
     "text": [
      " 57%|█████▋    | 17/30 [07:41<02:28, 11.44s/it]"
     ]
    },
    {
     "name": "stdout",
     "output_type": "stream",
     "text": [
      "Done\n",
      "\n",
      "Running ../../cmake-build-debug/nex /home/paul/Skripsie/Code/SkripsieCode/cpp/noiseEX/testfiles/aVSn/output/loop_test.vtk 2.5115218971e-01\n",
      "Done with tth!\n",
      "\n",
      "Meshing geometry\n",
      "Done meshing\n",
      "\n",
      "Running tth settings_washer.json >/dev/null 2>&1\n"
     ]
    },
    {
     "name": "stderr",
     "output_type": "stream",
     "text": [
      " 60%|██████    | 18/30 [07:50<02:08, 10.71s/it]"
     ]
    },
    {
     "name": "stdout",
     "output_type": "stream",
     "text": [
      "Done\n",
      "\n",
      "Running ../../cmake-build-debug/nex /home/paul/Skripsie/Code/SkripsieCode/cpp/noiseEX/testfiles/aVSn/output/loop_test.vtk 2.5665958855e-01\n",
      "Done with tth!\n",
      "\n",
      "Meshing geometry\n",
      "Done meshing\n",
      "\n",
      "Running tth settings_washer.json >/dev/null 2>&1\n"
     ]
    },
    {
     "name": "stderr",
     "output_type": "stream",
     "text": [
      " 63%|██████▎   | 19/30 [07:58<01:48,  9.84s/it]"
     ]
    },
    {
     "name": "stdout",
     "output_type": "stream",
     "text": [
      "Done\n",
      "\n",
      "Running ../../cmake-build-debug/nex /home/paul/Skripsie/Code/SkripsieCode/cpp/noiseEX/testfiles/aVSn/output/loop_test.vtk 2.6207193328e-01\n",
      "Done with tth!\n",
      "\n",
      "Meshing geometry\n",
      "Done meshing\n",
      "\n",
      "Running tth settings_washer.json >/dev/null 2>&1\n"
     ]
    },
    {
     "name": "stderr",
     "output_type": "stream",
     "text": [
      " 67%|██████▋   | 20/30 [08:07<01:36,  9.67s/it]"
     ]
    },
    {
     "name": "stdout",
     "output_type": "stream",
     "text": [
      "Done\n",
      "\n",
      "Running ../../cmake-build-debug/nex /home/paul/Skripsie/Code/SkripsieCode/cpp/noiseEX/testfiles/aVSn/output/loop_test.vtk 2.6723705297e-01\n",
      "Done with tth!\n",
      "\n",
      "Meshing geometry\n",
      "Done meshing\n",
      "\n",
      "Running tth settings_washer.json >/dev/null 2>&1\n"
     ]
    },
    {
     "name": "stderr",
     "output_type": "stream",
     "text": [
      " 70%|███████   | 21/30 [08:14<01:19,  8.88s/it]"
     ]
    },
    {
     "name": "stdout",
     "output_type": "stream",
     "text": [
      "Done\n",
      "\n",
      "Running ../../cmake-build-debug/nex /home/paul/Skripsie/Code/SkripsieCode/cpp/noiseEX/testfiles/aVSn/output/loop_test.vtk 2.7222884220e-01\n",
      "Done with tth!\n",
      "\n",
      "Meshing geometry\n",
      "Done meshing\n",
      "\n",
      "Running tth settings_washer.json >/dev/null 2>&1\n"
     ]
    },
    {
     "name": "stderr",
     "output_type": "stream",
     "text": [
      " 73%|███████▎  | 22/30 [08:22<01:07,  8.44s/it]"
     ]
    },
    {
     "name": "stdout",
     "output_type": "stream",
     "text": [
      "Done\n",
      "\n",
      "Running ../../cmake-build-debug/nex /home/paul/Skripsie/Code/SkripsieCode/cpp/noiseEX/testfiles/aVSn/output/loop_test.vtk 2.7721635595e-01\n",
      "Done with tth!\n",
      "\n",
      "Meshing geometry\n",
      "Done meshing\n",
      "\n",
      "Running tth settings_washer.json >/dev/null 2>&1\n"
     ]
    },
    {
     "name": "stderr",
     "output_type": "stream",
     "text": [
      " 77%|███████▋  | 23/30 [08:30<00:58,  8.33s/it]"
     ]
    },
    {
     "name": "stdout",
     "output_type": "stream",
     "text": [
      "Done\n",
      "\n",
      "Running ../../cmake-build-debug/nex /home/paul/Skripsie/Code/SkripsieCode/cpp/noiseEX/testfiles/aVSn/output/loop_test.vtk 2.8197747511e-01\n",
      "Done with tth!\n",
      "\n",
      "Meshing geometry\n",
      "Done meshing\n",
      "\n",
      "Running tth settings_washer.json >/dev/null 2>&1\n"
     ]
    },
    {
     "name": "stderr",
     "output_type": "stream",
     "text": [
      " 80%|████████  | 24/30 [08:37<00:47,  7.89s/it]"
     ]
    },
    {
     "name": "stdout",
     "output_type": "stream",
     "text": [
      "Done\n",
      "\n",
      "Running ../../cmake-build-debug/nex /home/paul/Skripsie/Code/SkripsieCode/cpp/noiseEX/testfiles/aVSn/output/loop_test.vtk 2.8674924804e-01\n",
      "Done with tth!\n",
      "\n",
      "Meshing geometry\n",
      "Done meshing\n",
      "\n",
      "Running tth settings_washer.json >/dev/null 2>&1\n"
     ]
    },
    {
     "name": "stderr",
     "output_type": "stream",
     "text": [
      " 83%|████████▎ | 25/30 [08:44<00:38,  7.73s/it]"
     ]
    },
    {
     "name": "stdout",
     "output_type": "stream",
     "text": [
      "Done\n",
      "\n",
      "Running ../../cmake-build-debug/nex /home/paul/Skripsie/Code/SkripsieCode/cpp/noiseEX/testfiles/aVSn/output/loop_test.vtk 2.9144581641e-01\n",
      "Done with tth!\n",
      "\n",
      "Meshing geometry\n",
      "Done meshing\n",
      "\n",
      "Running tth settings_washer.json >/dev/null 2>&1\n"
     ]
    },
    {
     "name": "stderr",
     "output_type": "stream",
     "text": [
      " 87%|████████▋ | 26/30 [08:52<00:31,  7.79s/it]"
     ]
    },
    {
     "name": "stdout",
     "output_type": "stream",
     "text": [
      "Done\n",
      "\n",
      "Running ../../cmake-build-debug/nex /home/paul/Skripsie/Code/SkripsieCode/cpp/noiseEX/testfiles/aVSn/output/loop_test.vtk 2.9623622050e-01\n",
      "Done with tth!\n",
      "\n",
      "Meshing geometry\n",
      "Done meshing\n",
      "\n",
      "Running tth settings_washer.json >/dev/null 2>&1\n"
     ]
    },
    {
     "name": "stderr",
     "output_type": "stream",
     "text": [
      " 90%|█████████ | 27/30 [08:59<00:22,  7.66s/it]"
     ]
    },
    {
     "name": "stdout",
     "output_type": "stream",
     "text": [
      "Done\n",
      "\n",
      "Running ../../cmake-build-debug/nex /home/paul/Skripsie/Code/SkripsieCode/cpp/noiseEX/testfiles/aVSn/output/loop_test.vtk 3.0065705695e-01\n",
      "Done with tth!\n",
      "\n",
      "Meshing geometry\n",
      "Done meshing\n",
      "\n",
      "Running tth settings_washer.json >/dev/null 2>&1\n"
     ]
    },
    {
     "name": "stderr",
     "output_type": "stream",
     "text": [
      " 93%|█████████▎| 28/30 [09:06<00:14,  7.47s/it]"
     ]
    },
    {
     "name": "stdout",
     "output_type": "stream",
     "text": [
      "Done\n",
      "\n",
      "Running ../../cmake-build-debug/nex /home/paul/Skripsie/Code/SkripsieCode/cpp/noiseEX/testfiles/aVSn/output/loop_test.vtk 3.0510806094e-01\n",
      "Done with tth!\n",
      "\n",
      "Meshing geometry\n",
      "Done meshing\n",
      "\n",
      "Running tth settings_washer.json >/dev/null 2>&1\n"
     ]
    },
    {
     "name": "stderr",
     "output_type": "stream",
     "text": [
      " 97%|█████████▋| 29/30 [09:13<00:07,  7.08s/it]"
     ]
    },
    {
     "name": "stdout",
     "output_type": "stream",
     "text": [
      "Done\n",
      "\n",
      "Running ../../cmake-build-debug/nex /home/paul/Skripsie/Code/SkripsieCode/cpp/noiseEX/testfiles/aVSn/output/loop_test.vtk 3.0966398147e-01\n",
      "Done with tth!\n",
      "\n",
      "Meshing geometry\n",
      "Done meshing\n",
      "\n",
      "Running tth settings_washer.json >/dev/null 2>&1\n"
     ]
    },
    {
     "name": "stderr",
     "output_type": "stream",
     "text": [
      "100%|██████████| 30/30 [09:20<00:00, 18.68s/it]"
     ]
    },
    {
     "name": "stdout",
     "output_type": "stream",
     "text": [
      "Done\n",
      "\n",
      "Running ../../cmake-build-debug/nex /home/paul/Skripsie/Code/SkripsieCode/cpp/noiseEX/testfiles/aVSn/output/loop_test.vtk 3.1498253779e-01\n",
      "Done with tth!\n",
      "\n"
     ]
    },
    {
     "name": "stderr",
     "output_type": "stream",
     "text": [
      "\n"
     ]
    }
   ],
   "source": [
    "\n",
    "SPIN_DENS = 5e17\n",
    "MU_B = 9.2740100783e-24\n",
    "PHI_0 = 2.067833848e-15\n",
    "MU_0 = 1.25663706212e-6 \t\n",
    "Analytic = lambda R, D : 2/3*MU_0**2*MU_B**2*SPIN_DENS*R/D*1/(PHI_0**2)\n",
    "\n",
    "r1 = 15e-6\n",
    "r2s = np.linspace(0.09e-6, 1.5e-6, 30)\n",
    "\n",
    "\n",
    "try:\n",
    "    os.remove(\"resFIX_R_2.csv\")\n",
    "except:\n",
    "    pass\n",
    "\n",
    "res = open(\"resFIX_R_2.csv\",\"w\")\n",
    "res.write(\"R,D,Analytic,Numerical\\n\")\n",
    "\n",
    "for r2 in tqdm(r2s):\n",
    "    writeRadius(r1, r2)\n",
    "    runGMSH()\n",
    "    runTTH()\n",
    "    i = getCurrent()[0]\n",
    "    msfn_numerical = runNoiseEx(\"/home/paul/Skripsie/Code/SkripsieCode/cpp/noiseEX/testfiles/aVSn/output/loop_test.vtk\",i)\n",
    "    msfn_analytical = Analytic(r1,r2*2)\n",
    "    # write result to file\n",
    "    res.write(f\"{r1},{2*r2},{msfn_analytical},{msfn_numerical}\\n\")\n",
    "\n",
    "\n",
    "\n",
    "res.close()\n",
    "\n"
   ]
  },
  {
   "cell_type": "markdown",
   "id": "b6c65b79",
   "metadata": {},
   "source": [
    "## FIX D VARY R"
   ]
  },
  {
   "cell_type": "code",
   "execution_count": 3,
   "id": "a4c64452",
   "metadata": {},
   "outputs": [
    {
     "name": "stderr",
     "output_type": "stream",
     "text": [
      "  0%|          | 0/5 [00:00<?, ?it/s]"
     ]
    },
    {
     "name": "stdout",
     "output_type": "stream",
     "text": [
      "Meshing geometry\n",
      "Done meshing\n",
      "\n",
      "Running tth settings_washer.json >/dev/null 2>&1\n",
      "Done\n",
      "\n",
      "1.0943227870e-01\n",
      "Running ../../cmake-build-debug/nex /home/paul/Skripsie/Code/SkripsieCode/cpp/noiseEX/testfiles/aVSn/output/loop_test.vtk 1.0943227870e-01\n"
     ]
    },
    {
     "name": "stderr",
     "output_type": "stream",
     "text": [
      " 20%|██        | 1/5 [00:37<02:29, 37.39s/it]"
     ]
    },
    {
     "name": "stdout",
     "output_type": "stream",
     "text": [
      "Done\n",
      "\n",
      "Meshing geometry\n",
      "Done meshing\n",
      "\n",
      "Running tth settings_washer.json >/dev/null 2>&1\n",
      "Done\n",
      "\n",
      "8.5015196732e-02\n",
      "Running ../../cmake-build-debug/nex /home/paul/Skripsie/Code/SkripsieCode/cpp/noiseEX/testfiles/aVSn/output/loop_test.vtk 8.5015196732e-02\n"
     ]
    },
    {
     "name": "stderr",
     "output_type": "stream",
     "text": [
      " 40%|████      | 2/5 [01:30<02:20, 46.68s/it]"
     ]
    },
    {
     "name": "stdout",
     "output_type": "stream",
     "text": [
      "Done\n",
      "\n",
      "Meshing geometry\n",
      "Done meshing\n",
      "\n",
      "Running tth settings_washer.json >/dev/null 2>&1\n",
      "Done\n",
      "\n",
      "6.9237699124e-02\n",
      "Running ../../cmake-build-debug/nex /home/paul/Skripsie/Code/SkripsieCode/cpp/noiseEX/testfiles/aVSn/output/loop_test.vtk 6.9237699124e-02\n"
     ]
    },
    {
     "name": "stderr",
     "output_type": "stream",
     "text": [
      " 60%|██████    | 3/5 [02:40<01:54, 57.08s/it]"
     ]
    },
    {
     "name": "stdout",
     "output_type": "stream",
     "text": [
      "Done\n",
      "\n",
      "Meshing geometry\n",
      "Done meshing\n",
      "\n",
      "Running tth settings_washer.json >/dev/null 2>&1\n",
      "Done\n",
      "\n",
      "5.8251250161e-02\n",
      "Running ../../cmake-build-debug/nex /home/paul/Skripsie/Code/SkripsieCode/cpp/noiseEX/testfiles/aVSn/output/loop_test.vtk 5.8251250161e-02\n"
     ]
    },
    {
     "name": "stderr",
     "output_type": "stream",
     "text": [
      " 80%|████████  | 4/5 [04:09<01:09, 69.82s/it]"
     ]
    },
    {
     "name": "stdout",
     "output_type": "stream",
     "text": [
      "Done\n",
      "\n",
      "Meshing geometry\n",
      "Done meshing\n",
      "\n",
      "Running tth settings_washer.json >/dev/null 2>&1\n",
      "Done\n",
      "\n",
      "5.0158929349e-02\n",
      "Running ../../cmake-build-debug/nex /home/paul/Skripsie/Code/SkripsieCode/cpp/noiseEX/testfiles/aVSn/output/loop_test.vtk 5.0158929349e-02\n"
     ]
    },
    {
     "name": "stderr",
     "output_type": "stream",
     "text": [
      "100%|██████████| 5/5 [05:58<00:00, 71.73s/it]"
     ]
    },
    {
     "name": "stdout",
     "output_type": "stream",
     "text": [
      "Done\n",
      "\n"
     ]
    },
    {
     "name": "stderr",
     "output_type": "stream",
     "text": [
      "\n"
     ]
    }
   ],
   "source": [
    "SPIN_DENS = 5e17\n",
    "MU_B = 9.2740100783e-24\n",
    "PHI_0 = 2.067833848e-15\n",
    "MU_0 = 1.25663706212e-6 \t\n",
    "Analytic = lambda R, D : 2/3*MU_0**2*MU_B**2*SPIN_DENS*R/D*1/(PHI_0**2)\n",
    "\n",
    "r1s = np.linspace(15e-6, 30e-6, 5)\n",
    "r2 = 0.2e-6\n",
    "\n",
    "\n",
    "try:\n",
    "    os.remove(\"resFIX_D_AreaErr.csv\")\n",
    "except:\n",
    "    pass\n",
    "\n",
    "res = open(\"resFIX_D_AreaErr.csv\",\"w\")\n",
    "res.write(\"R,D,Analytic,Numerical,Analytic Area, Numerical Area\\n\")\n",
    "\n",
    "for r1 in tqdm(r1s):\n",
    "    writeRadius(r1, r2)\n",
    "    runGMSH()\n",
    "    runTTH()\n",
    "    i = getCurrent()\n",
    "    print(i)\n",
    "    msfn_numerical = runNoiseEx(\"/home/paul/Skripsie/Code/SkripsieCode/cpp/noiseEX/testfiles/aVSn/output/loop_test.vtk\",i)\n",
    "    numerical_area = msfn_numerical[1]\n",
    "    msfn_numerical = msfn_numerical[0]\n",
    "    msfn_analytical = Analytic(r1,r2*2)\n",
    "    analytic_area = 4*np.pi**2*r1*r2\n",
    "    # write result to file\n",
    "    res.write(f\"{r1},{2*r2},{msfn_analytical},{msfn_numerical},{analytic_area},{numerical_area}\\n\")\n",
    "\n",
    "\n",
    "\n",
    "res.close()"
   ]
  },
  {
   "cell_type": "markdown",
   "id": "18fab799",
   "metadata": {},
   "source": [
    "## An attempt to multithread my testing"
   ]
  },
  {
   "cell_type": "code",
   "execution_count": 56,
   "id": "abce8367",
   "metadata": {},
   "outputs": [],
   "source": [
    "os.chdir(\"/home/paul/Skripsie/Code/SkripsieCode/cpp/noiseEX/testfiles/aVSn/\")"
   ]
  },
  {
   "cell_type": "code",
   "execution_count": 72,
   "id": "adcd7ed1",
   "metadata": {},
   "outputs": [],
   "source": [
    "\n",
    "def runSim(folderPath,r1,r2):\n",
    "    try:\n",
    "        os.mkdir(folderPath)\n",
    "    except:\n",
    "        os.system(f\"rm -rf {folderPath}\")\n",
    "        os.mkdir(folderPath)\n",
    "    os.chdir(folderPath)\n",
    "    os.system(\"cp ../loop.geo ./\")\n",
    "    os.system(\"cp ../loopFIELD.geo ./\")\n",
    "    os.system(\"cp ../settings_washer.json ./\")\n",
    "    SPIN_DENS = 5e17\n",
    "    MU_B = 9.2740100783e-24\n",
    "    PHI_0 = 2.067833848e-15\n",
    "    MU_0 = 1.25663706212e-6 \t\n",
    "    Analytic = lambda R, D : 2/3*MU_0**2*MU_B**2*SPIN_DENS*R/D*1/(PHI_0**2)\n",
    "    \n",
    "    writeRadius(r1, r2)\n",
    "    runGMSH()\n",
    "    runTTH()\n",
    "    i = getCurrent()\n",
    "    msfn_numerical = runNoiseEx(f\"/home/paul/Skripsie/Code/SkripsieCode/cpp/noiseEX/testfiles/aVSn/{folderPath}/output/loop_test.vtk\",i)\n",
    "    print(msfn_numerical)\n",
    "    numerical_area = msfn_numerical[1]\n",
    "    msfn_numerical = msfn_numerical[0]\n",
    "    msfn_analytical = Analytic(r1,r2*2)\n",
    "    analytic_area = 4*np.pi**2*r1*r2\n",
    "    # write result to file\n",
    "    val = f\"{r1},{2*r2},{msfn_analytical},{msfn_numerical},{analytic_area},{numerical_area}\\n\"\n",
    "    \n",
    "    try:\n",
    "        os.remove(\"resPARR_SIM.csv\")\n",
    "    except:\n",
    "        pass\n",
    "\n",
    "    res = open(\"resPARR_SIM.csv\",\"w\")\n",
    "    res.write(\"R,D,Analytic,Numerical,Analytic Area, Numerical Area\\n\")\n",
    "    res.write(val)\n",
    "    res.close()\n",
    "    os.chdir(\"/home/paul/Skripsie/Code/SkripsieCode/cpp/noiseEX/testfiles/aVSn/\")\n",
    "\n",
    "    return val\n",
    "\n",
    "    \n"
   ]
  },
  {
   "cell_type": "code",
   "execution_count": 84,
   "id": "0850bb8a",
   "metadata": {},
   "outputs": [],
   "source": [
    "from multiprocessing import Process\n",
    "from time import sleep"
   ]
  },
  {
   "cell_type": "code",
   "execution_count": 91,
   "id": "91437821",
   "metadata": {},
   "outputs": [
    {
     "name": "stdout",
     "output_type": "stream",
     "text": [
      "65574: Meshing geometry\n",
      "65576: Meshing geometry\n",
      "65580: Meshing geometry\n",
      "65586: Meshing geometry"
     ]
    },
    {
     "name": "stdout",
     "output_type": "stream",
     "text": [
      "\n",
      "65596: Meshing geometry\n",
      "65608: Meshing geometry\n",
      "65632: Meshing geometry\n",
      "65623: Meshing geometry\n",
      "65661: Meshing geometry\n",
      "65654: Meshing geometry\n",
      "65674: Meshing geometry65680: Meshing geometry\n",
      "65695: Meshing geometry\n",
      "\n",
      "65675: Meshing geometry65699: Meshing geometry65683: Meshing geometry\n",
      "65726: Meshing geometry\n",
      "\n",
      "65745: Meshing geometry\n",
      "\n",
      "65780: Meshing geometry\n",
      "65758: Meshing geometry65793: Meshing geometry\n",
      "\n",
      "65817: Meshing geometry\n",
      "65838: Meshing geometry65855: Meshing geometry\n",
      "\n",
      "65900: Meshing geometry65874: Meshing geometry\n",
      "\n",
      "65908: Meshing geometry65957: Meshing geometry65937: Meshing geometry\n",
      "\n",
      "\n",
      "65974: Meshing geometry\n",
      "66029: Meshing geometry\n",
      "65992: Meshing geometry\n",
      "66034: Meshing geometry66046: Meshing geometry\n",
      "\n",
      "66058: Meshing geometry\n",
      "66102: Meshing geometry66094: Meshing geometry\n",
      "66124: Meshing geometry\n",
      "\n",
      "66138: Meshing geometry\n",
      "66151: Meshing geometry\n",
      "66177: Meshing geometry66183: Meshing geometry66188: Meshing geometry\n",
      "\n",
      "\n",
      "66211: Meshing geometry66199: Meshing geometry66182: Meshing geometry\n",
      "\n",
      "66222: Meshing geometry\n",
      "66235: Meshing geometry\n",
      "\n",
      "66244: Meshing geometry\n",
      "66267: Meshing geometry\n",
      "65576: Done meshing\n",
      "\n",
      "65576: Running tth settings_washer.json >/dev/null 2>&1\n",
      "65661: Done meshing\n",
      "\n",
      "65661: Running tth settings_washer.json >/dev/null 2>&1\n",
      "65586: Done meshing\n",
      "\n",
      "65586: Running tth settings_washer.json >/dev/null 2>&1\n",
      "65608: Done meshing\n",
      "\n",
      "65608: Running tth settings_washer.json >/dev/null 2>&1\n",
      "65580: Done meshing\n",
      "\n",
      "65580: Running tth settings_washer.json >/dev/null 2>&1\n",
      "65632: Done meshing\n",
      "\n",
      "65632: Running tth settings_washer.json >/dev/null 2>&1\n",
      "65699: Done meshing\n",
      "\n",
      "65699: Running tth settings_washer.json >/dev/null 2>&1\n",
      "65937: Done meshing\n",
      "\n",
      "65937: Running tth settings_washer.json >/dev/null 2>&1\n",
      "65623: Done meshing\n",
      "\n",
      "65623: Running tth settings_washer.json >/dev/null 2>&1\n",
      "65758: Done meshing\n",
      "\n",
      "65758: Running tth settings_washer.json >/dev/null 2>&1\n",
      "65574: Done meshing\n",
      "\n",
      "65574: Running tth settings_washer.json >/dev/null 2>&1\n",
      "65596: Done meshing\n",
      "\n",
      "65596: Running tth settings_washer.json >/dev/null 2>&1\n",
      "65908: Done meshing\n",
      "\n",
      "65908: Running tth settings_washer.json >/dev/null 2>&1\n",
      "65680: Done meshing\n",
      "\n",
      "65680: Running tth settings_washer.json >/dev/null 2>&1\n",
      "65674: Done meshing\n",
      "\n",
      "65674: Running tth settings_washer.json >/dev/null 2>&1\n",
      "65817: Done meshing\n",
      "\n",
      "65817: Running tth settings_washer.json >/dev/null 2>&1\n"
     ]
    }
   ],
   "source": [
    "r1s = np.linspace(15e-6, 30e-6, 50)\n",
    "r2 = 0.2e-6\n",
    "pl = []\n",
    "count = 0\n",
    "for r1 in r1s:\n",
    "    count = count + 1\n",
    "    path = f\"./sim{count}\"\n",
    "    pl.append(Process(target=runSim,args=(path,r1,r2,)))\n",
    "\n",
    "t = pl[2]\n",
    "pl[2] = pl[0]\n",
    "pl[0] = t\n",
    "\n",
    "for p in pl:\n",
    "    p.start()\n",
    "\n",
    "not_done = True\n",
    "while not_done:\n",
    "    not_done = False\n",
    "    for p in pl:\n",
    "        if p.is_alive() == True:\n",
    "            not_done = True\n",
    "    sleep(0.5)\n",
    "\n",
    "print(\"\\n\\n Sim complete\")\n",
    "    "
   ]
  },
  {
   "cell_type": "code",
   "execution_count": 87,
   "id": "014a5cf5",
   "metadata": {},
   "outputs": [],
   "source": [
    "for p in pl:\n",
    "    p.kill()"
   ]
  },
  {
   "cell_type": "code",
   "execution_count": 90,
   "id": "b3f40450",
   "metadata": {},
   "outputs": [
    {
     "name": "stdout",
     "output_type": "stream",
     "text": [
      "False\n",
      "False\n",
      "False\n",
      "False\n",
      "False\n"
     ]
    }
   ],
   "source": [
    "for p in pl:\n",
    "    print(p.is_alive())"
   ]
  }
 ],
 "metadata": {
  "kernelspec": {
   "display_name": "Python 3",
   "language": "python",
   "name": "python3"
  },
  "language_info": {
   "codemirror_mode": {
    "name": "ipython",
    "version": 3
   },
   "file_extension": ".py",
   "mimetype": "text/x-python",
   "name": "python",
   "nbconvert_exporter": "python",
   "pygments_lexer": "ipython3",
   "version": "3.10.11"
  }
 },
 "nbformat": 4,
 "nbformat_minor": 5
}
