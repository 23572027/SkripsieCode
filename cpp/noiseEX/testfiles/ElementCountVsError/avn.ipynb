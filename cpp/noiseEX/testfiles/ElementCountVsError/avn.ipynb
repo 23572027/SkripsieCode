{
 "cells": [
  {
   "cell_type": "code",
   "execution_count": null,
   "metadata": {},
   "outputs": [],
   "source": [
    "import re\n",
    "import os\n",
    "import numpy as np\n",
    "from progress.bar import Bar\n",
    "from tqdm import tqdm\n",
    "import time"
   ]
  },
  {
   "cell_type": "code",
   "execution_count": 13,
   "id": "c6d74f1d",
   "metadata": {},
   "outputs": [],
   "source": [
    "\n",
    "def writeRadius(r1,r2):\n",
    "    lpMesh = open(\"loop.geo\", \"r\")\n",
    "    loopMesh = lpMesh.read()\n",
    "    lpMesh.close()\n",
    "\n",
    "    reg1 = r\"(%r1)\"\n",
    "    reg2 = r\"(%r2)\"\n",
    "\n",
    "    sub1 = str(r1)\n",
    "    sub2 = str(r2)\n",
    "\n",
    "    loopMesh = re.sub(reg1,sub1,loopMesh,0,re.MULTILINE)\n",
    "    loopMesh = re.sub(reg2,sub2,loopMesh,0,re.MULTILINE)\n",
    "\n",
    "    try:\n",
    "        lpTemp = open(\"loopTemp.geo\", \"x\")\n",
    "    except:\n",
    "        os.remove(\"loopTemp.geo\")\n",
    "        lpTemp = open(\"loopTemp.geo\",\"x\")\n",
    "\n",
    "    lpTemp.write(loopMesh)\n",
    "    lpTemp.close()\n",
    "\n",
    "\n",
    "    # write surface mesh\n",
    "    lpMesh = open(\"loopFIELD.geo\", \"r\")\n",
    "    loopMesh = lpMesh.read()\n",
    "    lpMesh.close()\n",
    "    reg1 = r\"(%r1)\"\n",
    "    reg2 = r\"(%r2)\"\n",
    "    sub1 = str(r1)\n",
    "    sub2 = str(r2)\n",
    "    loopMesh = re.sub(reg1,sub1,loopMesh,0,re.MULTILINE)\n",
    "    loopMesh = re.sub(reg2,sub2,loopMesh,0,re.MULTILINE)\n",
    "    try:\n",
    "        lpTemp = open(\"loopFIELDTemp.geo\", \"x\")\n",
    "    except:\n",
    "        os.remove(\"loopFIELDTemp.geo\")\n",
    "        lpTemp = open(\"loopFIELDTemp.geo\",\"x\")\n",
    "    lpTemp.write(loopMesh)\n",
    "    lpTemp.close()\n",
    "\n",
    "def runGMSH():\n",
    "    print(f\"{os.getpid()}: Meshing geometry\\n\")\n",
    "    # os.system(\"gmsh loopFIELDTemp.geo -nopopup -0 -v 1\")\n",
    "    # os.system(\"gmsh loopTemp.geo -nopopup -0 -v 1\")\n",
    "    os.popen(\"gmsh loopFIELDTemp.geo -nopopup -0 -v 1\").read()\n",
    "    os.popen(\"gmsh loopTemp.geo -nopopup -0 -v 1\").read()\n",
    "    try:\n",
    "        os.system(\"rm *.geo_unrolled\")\n",
    "        os.remove(\"loopFIELDTemp.geo\")\n",
    "        os.remove(\"loopTemp.geo\")\n",
    "    except:\n",
    "        print(\"nope\")\n",
    "    print(f\"{os.getpid()}: Done meshing\\n\")\n",
    "\n",
    "\n",
    "def runTTH():\n",
    "    print(f\"{os.getpid()}: Running tth settings_washer.json >/dev/null 2>&1\")\n",
    "    os.system(\"tth settings_washer.json >/dev/null 2>&1\")\n",
    "    print(f\"{os.getpid()}: Done\\n\")\n",
    "\n",
    "\n",
    "def getCurrent():\n",
    "    iFile = open(\"./output/i.txt\")\n",
    "    it = iFile.read()\n",
    "    iFile.close()\n",
    "    reg = r\"fone fone .+ (\\d*\\.\\d*e.\\d*)\"\n",
    "    i_s = re.findall(reg,it,re.MULTILINE)[0]\n",
    "    return i_s\n",
    "    \n",
    "def runNoiseEx(b_path,current):\n",
    "    path = \"/home/paul/Skripsie/Code/SkripsieCode/cpp/noiseEX/cmake-build-debug/nex\"\n",
    "    print(f\"{os.getpid()}: Running \"+path+\" \"+b_path+\" \"+current)\n",
    "    v = os.popen(path+\" \"+b_path+\" \"+current).read()\n",
    "    print(f\"{os.getpid()}: Done\\n\")\n",
    "    v = v.split(\"\\n\")\n",
    "    return v\n",
    "\n",
    "def getElementsAndNodeCount():\n",
    "    iFile = open(\"./loop.msh\")\n",
    "    it = iFile.read()\n",
    "    iFile.close()\n",
    "    regNumNodes = r\"\\$Nodes\\n(.*)\\n\"\n",
    "    numNodes = re.findall(regNumNodes,it,re.MULTILINE)[0]\n",
    "    regNumElem = r\"\\$Elements\\n(.*)\\n\"\n",
    "    numElem = re.findall(regNumElem,it,re.MULTILINE)[0]\n",
    "\n",
    "    return numElem, numNodes\n",
    "\n",
    "def writeTargetElem(c):\n",
    "    lpMesh = open(\"loop.geo\", \"r\")\n",
    "    loopMesh = lpMesh.read()\n",
    "    lpMesh.close()\n",
    "    reg1 = r\"(%c)\"\n",
    "    sub1 = str(c)\n",
    "    loopMesh = re.sub(reg1,sub1,loopMesh,0,re.MULTILINE)\n",
    "    try:\n",
    "        lpTemp = open(\"loopTemp.geo\", \"x\")\n",
    "    except:\n",
    "        os.remove(\"loopTemp.geo\")\n",
    "        lpTemp = open(\"loopTemp.geo\",\"x\")\n",
    "    lpTemp.write(loopMesh)\n",
    "    lpTemp.close()\n",
    "    \n",
    "    # write surface mesh\n",
    "    lpMesh = open(\"loopFIELD.geo\", \"r\")\n",
    "    loopMesh = lpMesh.read()\n",
    "    lpMesh.close()\n",
    "    reg1 = r\"(%c)\"\n",
    "    sub1 = str(c)\n",
    "    loopMesh = re.sub(reg1,sub1,loopMesh,0,re.MULTILINE)\n",
    "    try:\n",
    "        lpTemp = open(\"loopFIELDTemp.geo\", \"x\")\n",
    "    except:\n",
    "        os.remove(\"loopFIELDTemp.geo\")\n",
    "        lpTemp = open(\"loopFIELDTemp.geo\",\"x\")\n",
    "    lpTemp.write(loopMesh)\n",
    "    lpTemp.close()    \n",
    "\n"
   ]
  },
  {
   "cell_type": "markdown",
   "id": "625e2380",
   "metadata": {},
   "source": [
    "### Triangles:"
   ]
  },
  {
   "cell_type": "code",
   "execution_count": 15,
   "id": "a4c64452",
   "metadata": {},
   "outputs": [
    {
     "name": "stderr",
     "output_type": "stream",
     "text": [
      "  0%|          | 0/11 [00:00<?, ?it/s]"
     ]
    },
    {
     "name": "stdout",
     "output_type": "stream",
     "text": [
      "4043: Meshing geometry\n",
      "\n",
      "4043: Done meshing\n",
      "\n",
      "4043: Running tth settings_washer.json >/dev/null 2>&1\n"
     ]
    },
    {
     "name": "stderr",
     "output_type": "stream",
     "text": [
      "  9%|▉         | 1/11 [00:03<00:36,  3.64s/it]"
     ]
    },
    {
     "name": "stdout",
     "output_type": "stream",
     "text": [
      "4043: Done\n",
      "\n",
      "8.9744591564e-02\n",
      "4043: Running /home/paul/Skripsie/Code/SkripsieCode/cpp/noiseEX/cmake-build-debug/nex /home/paul/Skripsie/Code/SkripsieCode/cpp/noiseEX/testfiles/ElementCountVsError/output/loop_test.vtk 8.9744591564e-02\n",
      "4043: Done\n",
      "\n",
      "4043: Meshing geometry\n",
      "\n",
      "4043: Done meshing\n",
      "\n",
      "4043: Running tth settings_washer.json >/dev/null 2>&1\n"
     ]
    },
    {
     "name": "stderr",
     "output_type": "stream",
     "text": [
      " 18%|█▊        | 2/11 [00:10<00:50,  5.66s/it]"
     ]
    },
    {
     "name": "stdout",
     "output_type": "stream",
     "text": [
      "4043: Done\n",
      "\n",
      "9.9500718219e-02\n",
      "4043: Running /home/paul/Skripsie/Code/SkripsieCode/cpp/noiseEX/cmake-build-debug/nex /home/paul/Skripsie/Code/SkripsieCode/cpp/noiseEX/testfiles/ElementCountVsError/output/loop_test.vtk 9.9500718219e-02\n",
      "4043: Done\n",
      "\n",
      "4043: Meshing geometry\n",
      "\n",
      "4043: Done meshing\n",
      "\n",
      "4043: Running tth settings_washer.json >/dev/null 2>&1\n",
      "4043: Done\n",
      "\n",
      "1.0400845076e-01\n",
      "4043: Running /home/paul/Skripsie/Code/SkripsieCode/cpp/noiseEX/cmake-build-debug/nex /home/paul/Skripsie/Code/SkripsieCode/cpp/noiseEX/testfiles/ElementCountVsError/output/loop_test.vtk 1.0400845076e-01\n"
     ]
    },
    {
     "name": "stderr",
     "output_type": "stream",
     "text": [
      " 27%|██▋       | 3/11 [00:30<01:37, 12.15s/it]"
     ]
    },
    {
     "name": "stdout",
     "output_type": "stream",
     "text": [
      "4043: Done\n",
      "\n",
      "4043: Meshing geometry\n",
      "\n",
      "4043: Done meshing\n",
      "\n",
      "4043: Running tth settings_washer.json >/dev/null 2>&1\n",
      "4043: Done\n",
      "\n",
      "1.0626311810e-01\n",
      "4043: Running /home/paul/Skripsie/Code/SkripsieCode/cpp/noiseEX/cmake-build-debug/nex /home/paul/Skripsie/Code/SkripsieCode/cpp/noiseEX/testfiles/ElementCountVsError/output/loop_test.vtk 1.0626311810e-01\n"
     ]
    },
    {
     "name": "stderr",
     "output_type": "stream",
     "text": [
      " 36%|███▋      | 4/11 [00:48<01:40, 14.39s/it]"
     ]
    },
    {
     "name": "stdout",
     "output_type": "stream",
     "text": [
      "4043: Done\n",
      "\n",
      "4043: Meshing geometry\n",
      "\n",
      "4043: Done meshing\n",
      "\n",
      "4043: Running tth settings_washer.json >/dev/null 2>&1\n",
      "4043: Done\n",
      "\n",
      "1.0781919518e-01\n",
      "4043: Running /home/paul/Skripsie/Code/SkripsieCode/cpp/noiseEX/cmake-build-debug/nex /home/paul/Skripsie/Code/SkripsieCode/cpp/noiseEX/testfiles/ElementCountVsError/output/loop_test.vtk 1.0781919518e-01\n"
     ]
    },
    {
     "name": "stderr",
     "output_type": "stream",
     "text": [
      " 45%|████▌     | 5/11 [01:08<01:38, 16.36s/it]"
     ]
    },
    {
     "name": "stdout",
     "output_type": "stream",
     "text": [
      "4043: Done\n",
      "\n",
      "4043: Meshing geometry\n",
      "\n",
      "4043: Done meshing\n",
      "\n",
      "4043: Running tth settings_washer.json >/dev/null 2>&1\n",
      "4043: Done\n",
      "\n",
      "1.0870149180e-01\n",
      "4043: Running /home/paul/Skripsie/Code/SkripsieCode/cpp/noiseEX/cmake-build-debug/nex /home/paul/Skripsie/Code/SkripsieCode/cpp/noiseEX/testfiles/ElementCountVsError/output/loop_test.vtk 1.0870149180e-01\n"
     ]
    },
    {
     "name": "stderr",
     "output_type": "stream",
     "text": [
      " 55%|█████▍    | 6/11 [01:36<01:41, 20.37s/it]"
     ]
    },
    {
     "name": "stdout",
     "output_type": "stream",
     "text": [
      "4043: Done\n",
      "\n",
      "4043: Meshing geometry\n",
      "\n",
      "4043: Done meshing\n",
      "\n",
      "4043: Running tth settings_washer.json >/dev/null 2>&1\n",
      "4043: Done\n",
      "\n",
      "1.0943227870e-01\n",
      "4043: Running /home/paul/Skripsie/Code/SkripsieCode/cpp/noiseEX/cmake-build-debug/nex /home/paul/Skripsie/Code/SkripsieCode/cpp/noiseEX/testfiles/ElementCountVsError/output/loop_test.vtk 1.0943227870e-01\n"
     ]
    },
    {
     "name": "stderr",
     "output_type": "stream",
     "text": [
      " 64%|██████▎   | 7/11 [02:14<01:44, 26.00s/it]"
     ]
    },
    {
     "name": "stdout",
     "output_type": "stream",
     "text": [
      "4043: Done\n",
      "\n",
      "4043: Meshing geometry\n",
      "\n",
      "4043: Done meshing\n",
      "\n",
      "4043: Running tth settings_washer.json >/dev/null 2>&1\n",
      "4043: Done\n",
      "\n",
      "1.0985239345e-01\n",
      "4043: Running /home/paul/Skripsie/Code/SkripsieCode/cpp/noiseEX/cmake-build-debug/nex /home/paul/Skripsie/Code/SkripsieCode/cpp/noiseEX/testfiles/ElementCountVsError/output/loop_test.vtk 1.0985239345e-01\n"
     ]
    },
    {
     "name": "stderr",
     "output_type": "stream",
     "text": [
      " 73%|███████▎  | 8/11 [03:00<01:37, 32.39s/it]"
     ]
    },
    {
     "name": "stdout",
     "output_type": "stream",
     "text": [
      "4043: Done\n",
      "\n",
      "4043: Meshing geometry\n",
      "\n",
      "4043: Done meshing\n",
      "\n",
      "4043: Running tth settings_washer.json >/dev/null 2>&1\n",
      "4043: Done\n",
      "\n",
      "1.1022281316e-01\n",
      "4043: Running /home/paul/Skripsie/Code/SkripsieCode/cpp/noiseEX/cmake-build-debug/nex /home/paul/Skripsie/Code/SkripsieCode/cpp/noiseEX/testfiles/ElementCountVsError/output/loop_test.vtk 1.1022281316e-01\n"
     ]
    },
    {
     "name": "stderr",
     "output_type": "stream",
     "text": [
      " 82%|████████▏ | 9/11 [04:03<01:24, 42.13s/it]"
     ]
    },
    {
     "name": "stdout",
     "output_type": "stream",
     "text": [
      "4043: Done\n",
      "\n",
      "4043: Meshing geometry\n",
      "\n",
      "4043: Done meshing\n",
      "\n",
      "4043: Running tth settings_washer.json >/dev/null 2>&1\n",
      "4043: Done\n",
      "\n",
      "1.1056081525e-01\n",
      "4043: Running /home/paul/Skripsie/Code/SkripsieCode/cpp/noiseEX/cmake-build-debug/nex /home/paul/Skripsie/Code/SkripsieCode/cpp/noiseEX/testfiles/ElementCountVsError/output/loop_test.vtk 1.1056081525e-01\n"
     ]
    },
    {
     "name": "stderr",
     "output_type": "stream",
     "text": [
      " 91%|█████████ | 10/11 [05:27<00:54, 54.99s/it]"
     ]
    },
    {
     "name": "stdout",
     "output_type": "stream",
     "text": [
      "4043: Done\n",
      "\n",
      "4043: Meshing geometry\n",
      "\n",
      "4043: Done meshing\n",
      "\n",
      "4043: Running tth settings_washer.json >/dev/null 2>&1\n",
      "4043: Done\n",
      "\n",
      "1.1077889201e-01\n",
      "4043: Running /home/paul/Skripsie/Code/SkripsieCode/cpp/noiseEX/cmake-build-debug/nex /home/paul/Skripsie/Code/SkripsieCode/cpp/noiseEX/testfiles/ElementCountVsError/output/loop_test.vtk 1.1077889201e-01\n"
     ]
    },
    {
     "name": "stderr",
     "output_type": "stream",
     "text": [
      "100%|██████████| 11/11 [07:10<00:00, 39.17s/it]"
     ]
    },
    {
     "name": "stdout",
     "output_type": "stream",
     "text": [
      "4043: Done\n",
      "\n"
     ]
    },
    {
     "name": "stderr",
     "output_type": "stream",
     "text": [
      "\n"
     ]
    }
   ],
   "source": [
    "\n",
    "\n",
    "SPIN_DENS = 5e17\n",
    "MU_B = 9.2740100783e-24\n",
    "PHI_0 = 2.067833848e-15\n",
    "MU_0 = 1.25663706212e-6 \t\n",
    "Analytic = lambda R, D : 2/3*MU_0**2*MU_B**2*SPIN_DENS*R/D*1/(PHI_0**2)\n",
    "\n",
    "cl = np.arange(4,15)\n",
    "r1 = 15e-6\n",
    "r2 = 0.2e-6\n",
    "\n",
    "try:\n",
    "    os.remove(\"triangles.csv\")\n",
    "except:\n",
    "    pass\n",
    "\n",
    "res = open(\"triangles.csv\",\"w\")\n",
    "res.write(\"c,Analytic,Numerical,Analytic Area,Numerical Area,Mesh Time,TTH Time,nex Time,Num Elements,Num Nodes\\n\")\n",
    "\n",
    "for c in tqdm(cl):\n",
    "    # writeRadius(r1, r2)\n",
    "    writeTargetElem(c)\n",
    "    start = time.time()\n",
    "    runGMSH()\n",
    "    end = time.time()\n",
    "    meshTime = end - start\n",
    "\n",
    "    numElem , numNodes = getElementsAndNodeCount()\n",
    "\n",
    "    start = time.time()\n",
    "    runTTH()\n",
    "    end = time.time()\n",
    "    tthTime = end - start\n",
    "    i = getCurrent()\n",
    "    print(i)\n",
    "    start = time.time()\n",
    "    msfn_numerical = runNoiseEx(\"/home/paul/Skripsie/Code/SkripsieCode/cpp/noiseEX/testfiles/ElementCountVsError/output/loop_test.vtk\",i)\n",
    "    end = time.time()\n",
    "    nexTime = end - start\n",
    "    numerical_area = msfn_numerical[1]\n",
    "    msfn_numerical = msfn_numerical[0]\n",
    "    msfn_analytical = Analytic(r1,r2*2)\n",
    "    analytic_area = 4*np.pi**2*r1*r2\n",
    "    # write result to file\n",
    "    res.write(f\"{c},{msfn_analytical},{msfn_numerical},{analytic_area},{numerical_area},{meshTime},{tthTime},{nexTime},{numElem},{numNodes}\\n\")\n",
    "\n",
    "\n",
    "\n",
    "res.close()"
   ]
  },
  {
   "cell_type": "code",
   "execution_count": 49,
   "id": "77ed9a90",
   "metadata": {},
   "outputs": [],
   "source": [
    "import pandas as pd\n",
    "import matplotlib.pyplot as plt\n",
    "\n",
    "import seaborn as sns\n",
    "\n",
    "sns.set_theme()"
   ]
  },
  {
   "cell_type": "code",
   "execution_count": 18,
   "id": "a69d7b99",
   "metadata": {},
   "outputs": [],
   "source": [
    "res = pd.read_csv(\"triangles.csv\")\n",
    "\n",
    "res[\"TotalTime\"] = res[\"Mesh Time\"] + res[\"TTH Time\"] + res[\"nex Time\"]\n",
    "\n",
    "\n",
    "\n",
    "res[\"error\"] = abs(res[\"Analytic\"] - res[\"Numerical\"])\n",
    "res[\"error%\"] = res[\"error\"]/res[\"Analytic\"] * 100\n",
    "res[\"Numerical Area\"] = res[\"Numerical Area\"]*1e-12\n",
    "res[\"Area Error\"] = abs(res[\"Numerical Area\"] - res[\"Analytic Area\"])\n",
    "res[\"%AreaArea\"] = res[\"Area Error\"]/res[\"Analytic Area\"]"
   ]
  },
  {
   "cell_type": "code",
   "execution_count": 114,
   "id": "ed5308cc",
   "metadata": {},
   "outputs": [
    {
     "data": {
      "image/png": "[encoded data removed]",
      "text/plain": [
       "<Figure size 640x480 with 1 Axes>"
      ]
     },
     "metadata": {},
     "output_type": "display_data"
    },
    {
     "data": {
      "image/png": "[encoded data removed]",
      "text/plain": [
       "<Figure size 640x480 with 2 Axes>"
      ]
     },
     "metadata": {},
     "output_type": "display_data"
    },
    {
     "data": {
      "text/plain": [
       "<Axes: xlabel='c', ylabel='Num Elements'>"
      ]
     },
     "execution_count": 114,
     "metadata": {},
     "output_type": "execute_result"
    },
    {
     "data": {
      "image/png": "[encoded data removed]",
      "text/plain": [
       "<Figure size 640x480 with 1 Axes>"
      ]
     },
     "metadata": {},
     "output_type": "display_data"
    }
   ],
   "source": [
    "# plt.plot(res[\"c\"],res[\"Num Nodes\"],marker='.',color='green')\n",
    "# plt.title(\"Target number of elements per rotation vs number of nodes\")\n",
    "# plt.xlabel(\"Target number of nodes per rotation\")\n",
    "# plt.ylabel(\"Number of nodes\")\n",
    "# plt.show()\n",
    "\n",
    "# plt.plot(res['c'],res[\"error%\"])\n",
    "# plt.show()\n",
    "sns.set_theme()\n",
    "sns.set_palette(\"bright\")\n",
    "\n",
    "sns.lineplot(\n",
    "    data=res,\n",
    "    x=\"c\",y=\"error%\",\n",
    "    color=\"green\"\n",
    ")\n",
    "\n",
    "sns.scatterplot(\n",
    "    data=res,\n",
    "    x=\"c\",y=\"error%\",\n",
    "    color=\"green\"\n",
    ")\n",
    "\n",
    "plt.show()\n",
    "\n",
    "sns.set_theme(style=\"white\")\n",
    "\n",
    "fig, ax1 = plt.subplots()\n",
    "\n",
    "ax2 = ax1.twinx()\n",
    "\n",
    "sns.lineplot(data=res, x ='c', y='TotalTime',ax=ax1)\n",
    "sns.lineplot(data=res, x ='c', y=\"error%\",color=\"green\",ax=ax2)\n",
    "plt.show()\n"
   ]
  },
  {
   "cell_type": "code",
   "execution_count": 119,
   "id": "6d000d77",
   "metadata": {},
   "outputs": [
    {
     "data": {
      "text/plain": [
       "3.9703938427462754e-10"
      ]
     },
     "execution_count": 119,
     "metadata": {},
     "output_type": "execute_result"
    }
   ],
   "source": [
    "SPIN_DENS = 5e17\n",
    "MU_B = 9.2740100783e-24\n",
    "PHI_0 = 2.067833848e-15\n",
    "MU_0 = 1.25663706212e-6 \t\n",
    "Analytic = lambda R, D : 2/3*MU_0**2*MU_B**2*SPIN_DENS*R/D*1/(PHI_0**2)\n",
    "r1 = 15e-6\n",
    "r2 = 0.2e-6\n",
    "\n",
    "Analytic(r1,2*r2)"
   ]
  }
 ],
 "metadata": {
  "kernelspec": {
   "display_name": "Python 3",
   "language": "python",
   "name": "python3"
  },
  "language_info": {
   "codemirror_mode": {
    "name": "ipython",
    "version": 3
   },
   "file_extension": ".py",
   "mimetype": "text/x-python",
   "name": "python",
   "nbconvert_exporter": "python",
   "pygments_lexer": "ipython3",
   "version": "3.10.11"
  }
 },
 "nbformat": 4,
 "nbformat_minor": 5
}
