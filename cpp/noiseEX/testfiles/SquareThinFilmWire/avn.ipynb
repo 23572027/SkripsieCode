{
 "cells": [
  {
   "cell_type": "code",
   "execution_count": 1,
   "metadata": {},
   "outputs": [],
   "source": [
    "import re\n",
    "import os\n",
    "import numpy as np\n",
    "from progress.bar import Bar\n",
    "from tqdm import tqdm\n",
    "import time"
   ]
  },
  {
   "cell_type": "code",
   "execution_count": 11,
   "id": "8a998f59",
   "metadata": {},
   "outputs": [
    {
     "data": {
      "text/plain": [
       "3.172617230423554e-11"
      ]
     },
     "execution_count": 11,
     "metadata": {},
     "output_type": "execute_result"
    }
   ],
   "source": [
    "R = 15e-6\n",
    "W = 4e-6\n",
    "b = 0.2e-6\n",
    "lam = 0.24e-6\n",
    "# lam = 24e-9\n",
    "\n",
    "SPIN_DENS = 5e17\n",
    "MU_B = 9.2740100783e-24\n",
    "PHI_0 = 2.067833848e-15\n",
    "MU_0 = 1.25663706212e-6 \t\n",
    "Analytic = lambda R, W : 2/3*MU_0**2*MU_B**2*SPIN_DENS*R/W*(np.log(2*b*W/(lam**2))/(2*np.pi)+0.27)*1/(PHI_0**2)\n",
    "a = Analytic(R,W)\n",
    "# n = 5.99211e-11\n",
    "\n",
    "# (a - n)/a\n",
    "a"
   ]
  },
  {
   "cell_type": "code",
   "execution_count": null,
   "id": "47bc79bf",
   "metadata": {},
   "outputs": [],
   "source": []
  }
 ],
 "metadata": {
  "kernelspec": {
   "display_name": "Python 3",
   "language": "python",
   "name": "python3"
  },
  "language_info": {
   "codemirror_mode": {
    "name": "ipython",
    "version": 3
   },
   "file_extension": ".py",
   "mimetype": "text/x-python",
   "name": "python",
   "nbconvert_exporter": "python",
   "pygments_lexer": "ipython3",
   "version": "3.10.11"
  }
 },
 "nbformat": 4,
 "nbformat_minor": 5
}
