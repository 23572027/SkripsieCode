{
 "cells": [
  {
   "cell_type": "code",
   "execution_count": 2,
   "metadata": {},
   "outputs": [],
   "source": [
    "import re\n",
    "import os\n",
    "import numpy as np\n",
    "from progress.bar import Bar\n",
    "from tqdm import tqdm\n"
   ]
  },
  {
   "cell_type": "code",
   "execution_count": 3,
   "id": "c6d74f1d",
   "metadata": {},
   "outputs": [],
   "source": [
    "\n",
    "def writeRadius(r1,r2):\n",
    "    lpMesh = open(\"loop.geo\", \"r\")\n",
    "    loopMesh = lpMesh.read()\n",
    "    lpMesh.close()\n",
    "\n",
    "    reg1 = r\"(%r1)\"\n",
    "    reg2 = r\"(%r2)\"\n",
    "\n",
    "    sub1 = str(r1)\n",
    "    sub2 = str(r2)\n",
    "\n",
    "    loopMesh = re.sub(reg1,sub1,loopMesh,0,re.MULTILINE)\n",
    "    loopMesh = re.sub(reg2,sub2,loopMesh,0,re.MULTILINE)\n",
    "\n",
    "    try:\n",
    "        lpTemp = open(\"loopTemp.geo\", \"x\")\n",
    "    except:\n",
    "        os.remove(\"loopTemp.geo\")\n",
    "        lpTemp = open(\"loopTemp.geo\",\"x\")\n",
    "\n",
    "    lpTemp.write(loopMesh)\n",
    "    lpTemp.close()\n",
    "\n",
    "\n",
    "    # write surface mesh\n",
    "    lpMesh = open(\"loopFIELD.geo\", \"r\")\n",
    "    loopMesh = lpMesh.read()\n",
    "    lpMesh.close()\n",
    "    reg1 = r\"(%r1)\"\n",
    "    reg2 = r\"(%r2)\"\n",
    "    sub1 = str(r1)\n",
    "    sub2 = str(r2)\n",
    "    loopMesh = re.sub(reg1,sub1,loopMesh,0,re.MULTILINE)\n",
    "    loopMesh = re.sub(reg2,sub2,loopMesh,0,re.MULTILINE)\n",
    "    try:\n",
    "        lpTemp = open(\"loopFIELDTemp.geo\", \"x\")\n",
    "    except:\n",
    "        os.remove(\"loopFIELDTemp.geo\")\n",
    "        lpTemp = open(\"loopFIELDTemp.geo\",\"x\")\n",
    "    lpTemp.write(loopMesh)\n",
    "    lpTemp.close()\n",
    "\n",
    "def runGMSH():\n",
    "    print(f\"{os.getpid()}: Meshing geometry\\n\")\n",
    "    # os.system(\"gmsh loopFIELDTemp.geo -nopopup -0 -v 1\")\n",
    "    # os.system(\"gmsh loopTemp.geo -nopopup -0 -v 1\")\n",
    "    os.popen(\"gmsh loopFIELDTemp.geo -nopopup -0 -v 1\").read()\n",
    "    os.popen(\"gmsh loopTemp.geo -nopopup -0 -v 1\").read()\n",
    "    try:\n",
    "        os.system(\"rm *.geo_unrolled\")\n",
    "        os.remove(\"loopFIELDTemp.geo\")\n",
    "        os.remove(\"loopTemp.geo\")\n",
    "    except:\n",
    "        print(\"nope\")\n",
    "    print(f\"{os.getpid()}: Done meshing\\n\")\n",
    "\n",
    "\n",
    "def runTTH():\n",
    "    print(f\"{os.getpid()}: Running tth settings_washer.json >/dev/null 2>&1\")\n",
    "    os.system(\"tth settings_washer.json >/dev/null 2>&1\")\n",
    "    print(f\"{os.getpid()}: Done\\n\")\n",
    "\n",
    "\n",
    "def getCurrent(path):\n",
    "    iFile = open(path)\n",
    "    it = iFile.read()\n",
    "    iFile.close()\n",
    "    reg = r\"fone fone .+ (\\d*\\.\\d*e.\\d*)\"\n",
    "    i_s = re.findall(reg,it,re.MULTILINE)[0]\n",
    "    return i_s\n",
    "    \n",
    "def runNoiseEx(b_path,current):\n",
    "    path = \"/home/paul/Skripsie/Code/SkripsieCode/cpp/noiseEX/cmake-build-debug/nex\"\n",
    "    print(f\"{os.getpid()}: Running \"+path+\" \"+b_path+\" \"+current)\n",
    "    v = os.popen(path+\" \"+b_path+\" \"+current).read()\n",
    "    print(f\"{os.getpid()}: Done\\n\")\n",
    "    v = v.split(\"\\n\")\n",
    "    return v\n",
    "\n",
    "def getElementsAndNodeCount(path):\n",
    "    iFile = open(path)\n",
    "    it = iFile.read()\n",
    "    iFile.close()\n",
    "    regNumNodes = r\"\\$Nodes\\n(.*)\\n\"\n",
    "    numNodes = re.findall(regNumNodes,it,re.MULTILINE)[0]\n",
    "    regNumElem = r\"\\$Elements\\n(.*)\\n\"\n",
    "    numElem = re.findall(regNumElem,it,re.MULTILINE)[0]\n",
    "\n",
    "    return numElem, numNodes\n",
    "\n",
    "# writeRadius(15e-6, 0.2e-6)\n",
    "\n",
    "# runGMSH()\n",
    "\n",
    "# runTTH()\n",
    "\n",
    "# i = getCurrent()\n",
    "\n",
    "# runNoiseEx(\"/home/paul/Skripsie/Code/SkripsieCode/cpp/noiseEX/testfiles/aVSn/output/loop_test.vtk\",i)\n",
    "\n",
    "\n",
    "# runSim()"
   ]
  },
  {
   "cell_type": "markdown",
   "id": "b6c65b79",
   "metadata": {},
   "source": [
    "## FIX D VARY R"
   ]
  },
  {
   "cell_type": "code",
   "execution_count": 5,
   "id": "a4c64452",
   "metadata": {},
   "outputs": [
    {
     "name": "stderr",
     "output_type": "stream",
     "text": [
      "0it [00:00, ?it/s]"
     ]
    },
    {
     "name": "stdout",
     "output_type": "stream",
     "text": [
      "1.0668150091e+00\n",
      "6226: Running /home/paul/Skripsie/Code/SkripsieCode/cpp/noiseEX/cmake-build-debug/nex /home/paul/Skripsie/Code/SkripsieCode/cpp/noiseEX/testfiles/CircularWasherSims_results/test1/test1/output/B_loop_test.vtk 1.0668150091e+00\n"
     ]
    },
    {
     "name": "stderr",
     "output_type": "stream",
     "text": [
      "1it [00:04,  4.42s/it]"
     ]
    },
    {
     "name": "stdout",
     "output_type": "stream",
     "text": [
      "6226: Done\n",
      "\n",
      "8.3669533746e-01\n",
      "6226: Running /home/paul/Skripsie/Code/SkripsieCode/cpp/noiseEX/cmake-build-debug/nex /home/paul/Skripsie/Code/SkripsieCode/cpp/noiseEX/testfiles/CircularWasherSims_results/test2/output/B_loop_test.vtk 8.3669533746e-01\n"
     ]
    },
    {
     "name": "stderr",
     "output_type": "stream",
     "text": [
      "2it [00:07,  3.83s/it]"
     ]
    },
    {
     "name": "stdout",
     "output_type": "stream",
     "text": [
      "6226: Done\n",
      "\n",
      "6.7901439942e-01\n",
      "6226: Running /home/paul/Skripsie/Code/SkripsieCode/cpp/noiseEX/cmake-build-debug/nex /home/paul/Skripsie/Code/SkripsieCode/cpp/noiseEX/testfiles/CircularWasherSims_results/test3/output/B_loop_test.vtk 6.7901439942e-01\n"
     ]
    },
    {
     "name": "stderr",
     "output_type": "stream",
     "text": [
      "3it [00:10,  3.42s/it]"
     ]
    },
    {
     "name": "stdout",
     "output_type": "stream",
     "text": [
      "6226: Done\n",
      "\n",
      "5.6400792238e-01\n",
      "6226: Running /home/paul/Skripsie/Code/SkripsieCode/cpp/noiseEX/cmake-build-debug/nex /home/paul/Skripsie/Code/SkripsieCode/cpp/noiseEX/testfiles/CircularWasherSims_results/test4/output/B_loop_test.vtk 5.6400792238e-01\n"
     ]
    },
    {
     "name": "stderr",
     "output_type": "stream",
     "text": [
      "4it [00:13,  2.97s/it]"
     ]
    },
    {
     "name": "stdout",
     "output_type": "stream",
     "text": [
      "6226: Done\n",
      "\n",
      "4.7625234257e-01\n",
      "6226: Running /home/paul/Skripsie/Code/SkripsieCode/cpp/noiseEX/cmake-build-debug/nex /home/paul/Skripsie/Code/SkripsieCode/cpp/noiseEX/testfiles/CircularWasherSims_results/test5/output/B_loop_test.vtk 4.7625234257e-01\n"
     ]
    },
    {
     "name": "stderr",
     "output_type": "stream",
     "text": [
      "5it [00:17,  3.33s/it]"
     ]
    },
    {
     "name": "stdout",
     "output_type": "stream",
     "text": [
      "6226: Done\n",
      "\n",
      "4.0687959985e-01\n",
      "6226: Running /home/paul/Skripsie/Code/SkripsieCode/cpp/noiseEX/cmake-build-debug/nex /home/paul/Skripsie/Code/SkripsieCode/cpp/noiseEX/testfiles/CircularWasherSims_results/test6/output/B_loop_test.vtk 4.0687959985e-01\n"
     ]
    },
    {
     "name": "stderr",
     "output_type": "stream",
     "text": [
      "6it [00:21,  3.55s/it]"
     ]
    },
    {
     "name": "stdout",
     "output_type": "stream",
     "text": [
      "6226: Done\n",
      "\n",
      "3.5047249646e-01\n",
      "6226: Running /home/paul/Skripsie/Code/SkripsieCode/cpp/noiseEX/cmake-build-debug/nex /home/paul/Skripsie/Code/SkripsieCode/cpp/noiseEX/testfiles/CircularWasherSims_results/test7/output/B_loop_test.vtk 3.5047249646e-01\n"
     ]
    },
    {
     "name": "stderr",
     "output_type": "stream",
     "text": [
      "7it [00:23,  3.13s/it]"
     ]
    },
    {
     "name": "stdout",
     "output_type": "stream",
     "text": [
      "6226: Done\n",
      "\n",
      "3.0350161468e-01\n",
      "6226: Running /home/paul/Skripsie/Code/SkripsieCode/cpp/noiseEX/cmake-build-debug/nex /home/paul/Skripsie/Code/SkripsieCode/cpp/noiseEX/testfiles/CircularWasherSims_results/test8/output/B_loop_test.vtk 3.0350161468e-01\n"
     ]
    },
    {
     "name": "stderr",
     "output_type": "stream",
     "text": [
      "8it [00:26,  3.13s/it]"
     ]
    },
    {
     "name": "stdout",
     "output_type": "stream",
     "text": [
      "6226: Done\n",
      "\n",
      "2.6346441970e-01\n",
      "6226: Running /home/paul/Skripsie/Code/SkripsieCode/cpp/noiseEX/cmake-build-debug/nex /home/paul/Skripsie/Code/SkripsieCode/cpp/noiseEX/testfiles/CircularWasherSims_results/test9/output/B_loop_test.vtk 2.6346441970e-01\n"
     ]
    },
    {
     "name": "stderr",
     "output_type": "stream",
     "text": [
      "9it [00:28,  2.90s/it]"
     ]
    },
    {
     "name": "stdout",
     "output_type": "stream",
     "text": [
      "6226: Done\n",
      "\n",
      "1.1956856575e-01\n",
      "6226: Running /home/paul/Skripsie/Code/SkripsieCode/cpp/noiseEX/cmake-build-debug/nex /home/paul/Skripsie/Code/SkripsieCode/cpp/noiseEX/testfiles/CircularWasherSims_results/test10/output/B_loop_test.vtk 1.1956856575e-01\n"
     ]
    },
    {
     "name": "stderr",
     "output_type": "stream",
     "text": [
      "10it [00:32,  3.28s/it]"
     ]
    },
    {
     "name": "stdout",
     "output_type": "stream",
     "text": [
      "6226: Done\n",
      "\n"
     ]
    },
    {
     "name": "stderr",
     "output_type": "stream",
     "text": [
      "\n"
     ]
    }
   ],
   "source": [
    "\n",
    "b = 0.4e-6\n",
    "lam = 0.4e-6\n",
    "# lam = 24e-9\n",
    "\n",
    "SPIN_DENS = 5e17\n",
    "MU_B = 9.2740100783e-24\n",
    "PHI_0 = 2.067833848e-15\n",
    "MU_0 = 1.25663706212e-6 \t\n",
    "Analytic = lambda R, W : 2/3*MU_0**2*MU_B**2*SPIN_DENS*R/W*(np.log(2*b*W/(lam**2))/(2*np.pi)+0.27)*1/(PHI_0**2)\n",
    "\n",
    "charLen = 3e-7\n",
    "N = 400\n",
    "# R = 15e-6\n",
    "# W = 4e-6\n",
    "z_off = 0.2e-6 # thickness\n",
    "num_divs = 15\n",
    "charLen_side = 0.4e-7\n",
    "\n",
    "Rs = np.linspace(10e-6,15e-6,10)\n",
    "Ws = np.linspace(7e-6,3e-6,10)\n",
    "\n",
    "\n",
    "\n",
    "\n",
    "try:\n",
    "    os.remove(\"resFIX_D_AreaErr.csv\")\n",
    "except:\n",
    "    pass\n",
    "\n",
    "res = open(\"resFIX_D_AreaErr.csv\",\"w\")\n",
    "res.write(\"R,D,Analytic,Numerical\\n\")\n",
    "it = 1\n",
    "for R,W in tqdm(zip(Rs,Ws)):\n",
    "    if it == 1:\n",
    "        i = getCurrent(f\"/home/paul/Skripsie/Code/SkripsieCode/cpp/noiseEX/testfiles/CircularWasherSims_results/test{it}/test{it}/output/i.txt\")\n",
    "    else:\n",
    "        i = getCurrent(f\"/home/paul/Skripsie/Code/SkripsieCode/cpp/noiseEX/testfiles/CircularWasherSims_results/test{it}/output/i.txt\")\n",
    "    print(i)\n",
    "    if it == 1:\n",
    "        msfn_numerical = runNoiseEx(f\"/home/paul/Skripsie/Code/SkripsieCode/cpp/noiseEX/testfiles/CircularWasherSims_results/test{it}/test{it}/output/B_loop_test.vtk\",i)\n",
    "    else:\n",
    "        msfn_numerical = runNoiseEx(f\"/home/paul/Skripsie/Code/SkripsieCode/cpp/noiseEX/testfiles/CircularWasherSims_results/test{it}/output/B_loop_test.vtk\",i)\n",
    "    numerical_area = msfn_numerical[1]\n",
    "    msfn_numerical = msfn_numerical[0]\n",
    "    msfn_analytical = Analytic(R,W)\n",
    "    # write result to file\n",
    "    res.write(f\"{R},{W},{msfn_analytical},{msfn_numerical}\\n\")\n",
    "    it = it + 1\n",
    "\n",
    "\n",
    "res.close()"
   ]
  }
 ],
 "metadata": {
  "kernelspec": {
   "display_name": "Python 3",
   "language": "python",
   "name": "python3"
  },
  "language_info": {
   "codemirror_mode": {
    "name": "ipython",
    "version": 3
   },
   "file_extension": ".py",
   "mimetype": "text/x-python",
   "name": "python",
   "nbconvert_exporter": "python",
   "pygments_lexer": "ipython3",
   "version": "3.10.11"
  }
 },
 "nbformat": 4,
 "nbformat_minor": 5
}
