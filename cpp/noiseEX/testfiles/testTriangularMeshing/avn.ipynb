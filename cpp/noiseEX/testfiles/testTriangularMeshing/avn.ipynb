{
 "cells": [
  {
   "cell_type": "code",
   "execution_count": 1,
   "metadata": {},
   "outputs": [],
   "source": [
    "import re\n",
    "import os\n",
    "import numpy as np\n",
    "from progress.bar import Bar\n",
    "from tqdm import tqdm\n",
    "import time"
   ]
  },
  {
   "cell_type": "code",
   "execution_count": 2,
   "id": "c6d74f1d",
   "metadata": {},
   "outputs": [],
   "source": [
    "\n",
    "def writeRadius(r1,r2):\n",
    "    lpMesh = open(\"loop.geo\", \"r\")\n",
    "    loopMesh = lpMesh.read()\n",
    "    lpMesh.close()\n",
    "\n",
    "    reg1 = r\"(%r1)\"\n",
    "    reg2 = r\"(%r2)\"\n",
    "\n",
    "    sub1 = str(r1)\n",
    "    sub2 = str(r2)\n",
    "\n",
    "    loopMesh = re.sub(reg1,sub1,loopMesh,0,re.MULTILINE)\n",
    "    loopMesh = re.sub(reg2,sub2,loopMesh,0,re.MULTILINE)\n",
    "\n",
    "    try:\n",
    "        lpTemp = open(\"loopTemp.geo\", \"x\")\n",
    "    except:\n",
    "        os.remove(\"loopTemp.geo\")\n",
    "        lpTemp = open(\"loopTemp.geo\",\"x\")\n",
    "\n",
    "    lpTemp.write(loopMesh)\n",
    "    lpTemp.close()\n",
    "\n",
    "\n",
    "    # write surface mesh\n",
    "    lpMesh = open(\"loopFIELD.geo\", \"r\")\n",
    "    loopMesh = lpMesh.read()\n",
    "    lpMesh.close()\n",
    "    reg1 = r\"(%r1)\"\n",
    "    reg2 = r\"(%r2)\"\n",
    "    sub1 = str(r1)\n",
    "    sub2 = str(r2)\n",
    "    loopMesh = re.sub(reg1,sub1,loopMesh,0,re.MULTILINE)\n",
    "    loopMesh = re.sub(reg2,sub2,loopMesh,0,re.MULTILINE)\n",
    "    try:\n",
    "        lpTemp = open(\"loopFIELDTemp.geo\", \"x\")\n",
    "    except:\n",
    "        os.remove(\"loopFIELDTemp.geo\")\n",
    "        lpTemp = open(\"loopFIELDTemp.geo\",\"x\")\n",
    "    lpTemp.write(loopMesh)\n",
    "    lpTemp.close()\n",
    "\n",
    "def runGMSH():\n",
    "    print(f\"{os.getpid()}: Meshing geometry\\n\")\n",
    "    # os.system(\"gmsh loopFIELDTemp.geo -nopopup -0 -v 1\")\n",
    "    # os.system(\"gmsh loopTemp.geo -nopopup -0 -v 1\")\n",
    "    os.popen(\"gmsh loopFIELDTemp.geo -nopopup -0 -v 1\").read()\n",
    "    os.popen(\"gmsh loopTemp.geo -nopopup -0 -v 1\").read()\n",
    "    try:\n",
    "        os.system(\"rm *.geo_unrolled\")\n",
    "        os.remove(\"loopFIELDTemp.geo\")\n",
    "        os.remove(\"loopTemp.geo\")\n",
    "    except:\n",
    "        print(\"nope\")\n",
    "    print(f\"{os.getpid()}: Done meshing\\n\")\n",
    "\n",
    "\n",
    "def runTTH():\n",
    "    print(f\"{os.getpid()}: Running tth settings_washer.json >/dev/null 2>&1\")\n",
    "    os.system(\"tth settings_washer.json > tthlog.txt\")\n",
    "    print(f\"{os.getpid()}: Done\\n\")\n",
    "\n",
    "\n",
    "def getCurrent():\n",
    "    iFile = open(\"./output/i.txt\")\n",
    "    it = iFile.read()\n",
    "    iFile.close()\n",
    "    reg = r\"fone fone .+ (\\d*\\.\\d*e.\\d*)\"\n",
    "    i_s = re.findall(reg,it,re.MULTILINE)[0]\n",
    "    return i_s\n",
    "    \n",
    "def runNoiseEx(b_path,current):\n",
    "    path = \"/home/paul/Skripsie/Code/SkripsieCode/cpp/noiseEX/cmake-build-debug/nex\"\n",
    "    print(f\"{os.getpid()}: Running \"+path+\" \"+b_path+\" \"+current)\n",
    "    v = os.popen(path+\" \"+b_path+\" \"+current).read()\n",
    "    print(f\"{os.getpid()}: Done\\n\")\n",
    "    v = v.split(\"\\n\")\n",
    "    return v\n",
    "\n",
    "def getElementsAndNodeCount():\n",
    "    iFile = open(\"./loop.msh\")\n",
    "    it = iFile.read()\n",
    "    iFile.close()\n",
    "    regNumNodes = r\"\\$Nodes\\n(.*)\\n\"\n",
    "    numNodes = re.findall(regNumNodes,it,re.MULTILINE)[0]\n",
    "    regNumElem = r\"\\$Elements\\n(.*)\\n\"\n",
    "    numElem = re.findall(regNumElem,it,re.MULTILINE)[0]\n",
    "\n",
    "    return numElem, numNodes\n",
    "\n"
   ]
  },
  {
   "cell_type": "markdown",
   "id": "625e2380",
   "metadata": {},
   "source": [
    "### Triangles:"
   ]
  },
  {
   "cell_type": "code",
   "execution_count": 3,
   "id": "a4c64452",
   "metadata": {},
   "outputs": [
    {
     "name": "stderr",
     "output_type": "stream",
     "text": [
      "0it [00:00, ?it/s]"
     ]
    },
    {
     "name": "stdout",
     "output_type": "stream",
     "text": [
      "151669: Meshing geometry\n",
      "\n",
      "151669: Done meshing\n",
      "\n",
      "151669: Running tth settings_washer.json >/dev/null 2>&1\n"
     ]
    },
    {
     "name": "stderr",
     "output_type": "stream",
     "text": [
      "Unknown device \"/dev/sda\": No such file or directory\n"
     ]
    },
    {
     "name": "stdout",
     "output_type": "stream",
     "text": [
      "151669: Done\n",
      "\n",
      "2.1731997539e-01\n",
      "151669: Running /home/paul/Skripsie/Code/SkripsieCode/cpp/noiseEX/cmake-build-debug/nex /home/paul/Skripsie/Code/SkripsieCode/cpp/noiseEX/testfiles/testTriangularMeshing/triangles/output/loop_test.vtk 2.1731997539e-01\n"
     ]
    },
    {
     "name": "stderr",
     "output_type": "stream",
     "text": [
      "1it [00:17, 17.33s/it]"
     ]
    },
    {
     "name": "stdout",
     "output_type": "stream",
     "text": [
      "151669: Done\n",
      "\n",
      "151669: Meshing geometry\n",
      "\n",
      "151669: Done meshing\n",
      "\n",
      "151669: Running tth settings_washer.json >/dev/null 2>&1\n"
     ]
    },
    {
     "name": "stderr",
     "output_type": "stream",
     "text": [
      "Unknown device \"/dev/sda\": No such file or directory\n"
     ]
    },
    {
     "name": "stdout",
     "output_type": "stream",
     "text": [
      "151669: Done\n",
      "\n",
      "2.0919288685e-01\n",
      "151669: Running /home/paul/Skripsie/Code/SkripsieCode/cpp/noiseEX/cmake-build-debug/nex /home/paul/Skripsie/Code/SkripsieCode/cpp/noiseEX/testfiles/testTriangularMeshing/triangles/output/loop_test.vtk 2.0919288685e-01\n"
     ]
    },
    {
     "name": "stderr",
     "output_type": "stream",
     "text": [
      "2it [00:34, 17.19s/it]"
     ]
    },
    {
     "name": "stdout",
     "output_type": "stream",
     "text": [
      "151669: Done\n",
      "\n",
      "151669: Meshing geometry\n",
      "\n",
      "151669: Done meshing\n",
      "\n",
      "151669: Running tth settings_washer.json >/dev/null 2>&1\n"
     ]
    },
    {
     "name": "stderr",
     "output_type": "stream",
     "text": [
      "Unknown device \"/dev/sda\": No such file or directory\n"
     ]
    },
    {
     "name": "stdout",
     "output_type": "stream",
     "text": [
      "151669: Done\n",
      "\n",
      "2.0138175641e-01\n",
      "151669: Running /home/paul/Skripsie/Code/SkripsieCode/cpp/noiseEX/cmake-build-debug/nex /home/paul/Skripsie/Code/SkripsieCode/cpp/noiseEX/testfiles/testTriangularMeshing/triangles/output/loop_test.vtk 2.0138175641e-01\n"
     ]
    },
    {
     "name": "stderr",
     "output_type": "stream",
     "text": [
      "3it [00:53, 18.14s/it]"
     ]
    },
    {
     "name": "stdout",
     "output_type": "stream",
     "text": [
      "151669: Done\n",
      "\n",
      "151669: Meshing geometry\n",
      "\n",
      "151669: Done meshing\n",
      "\n",
      "151669: Running tth settings_washer.json >/dev/null 2>&1\n"
     ]
    },
    {
     "name": "stderr",
     "output_type": "stream",
     "text": [
      "Unknown device \"/dev/sda\": No such file or directory\n"
     ]
    },
    {
     "name": "stdout",
     "output_type": "stream",
     "text": [
      "151669: Done\n",
      "\n",
      "1.9389460135e-01\n",
      "151669: Running /home/paul/Skripsie/Code/SkripsieCode/cpp/noiseEX/cmake-build-debug/nex /home/paul/Skripsie/Code/SkripsieCode/cpp/noiseEX/testfiles/testTriangularMeshing/triangles/output/loop_test.vtk 1.9389460135e-01\n"
     ]
    },
    {
     "name": "stderr",
     "output_type": "stream",
     "text": [
      "4it [01:14, 19.03s/it]"
     ]
    },
    {
     "name": "stdout",
     "output_type": "stream",
     "text": [
      "151669: Done\n",
      "\n",
      "151669: Meshing geometry\n",
      "\n",
      "151669: Done meshing\n",
      "\n",
      "151669: Running tth settings_washer.json >/dev/null 2>&1\n"
     ]
    },
    {
     "name": "stderr",
     "output_type": "stream",
     "text": [
      "Unknown device \"/dev/sda\": No such file or directory\n"
     ]
    },
    {
     "name": "stdout",
     "output_type": "stream",
     "text": [
      "151669: Done\n",
      "\n",
      "1.8669131289e-01\n",
      "151669: Running /home/paul/Skripsie/Code/SkripsieCode/cpp/noiseEX/cmake-build-debug/nex /home/paul/Skripsie/Code/SkripsieCode/cpp/noiseEX/testfiles/testTriangularMeshing/triangles/output/loop_test.vtk 1.8669131289e-01\n"
     ]
    },
    {
     "name": "stderr",
     "output_type": "stream",
     "text": [
      "5it [01:32, 18.81s/it]"
     ]
    },
    {
     "name": "stdout",
     "output_type": "stream",
     "text": [
      "151669: Done\n",
      "\n",
      "151669: Meshing geometry\n",
      "\n",
      "151669: Done meshing\n",
      "\n",
      "151669: Running tth settings_washer.json >/dev/null 2>&1\n"
     ]
    },
    {
     "name": "stderr",
     "output_type": "stream",
     "text": [
      "Unknown device \"/dev/sda\": No such file or directory\n"
     ]
    },
    {
     "name": "stdout",
     "output_type": "stream",
     "text": [
      "151669: Done\n",
      "\n",
      "1.7979583758e-01\n",
      "151669: Running /home/paul/Skripsie/Code/SkripsieCode/cpp/noiseEX/cmake-build-debug/nex /home/paul/Skripsie/Code/SkripsieCode/cpp/noiseEX/testfiles/testTriangularMeshing/triangles/output/loop_test.vtk 1.7979583758e-01\n"
     ]
    },
    {
     "name": "stderr",
     "output_type": "stream",
     "text": [
      "6it [01:50, 18.41s/it]"
     ]
    },
    {
     "name": "stdout",
     "output_type": "stream",
     "text": [
      "151669: Done\n",
      "\n",
      "151669: Meshing geometry\n",
      "\n",
      "151669: Done meshing\n",
      "\n",
      "151669: Running tth settings_washer.json >/dev/null 2>&1\n"
     ]
    },
    {
     "name": "stderr",
     "output_type": "stream",
     "text": [
      "Unknown device \"/dev/sda\": No such file or directory\n"
     ]
    },
    {
     "name": "stdout",
     "output_type": "stream",
     "text": [
      "151669: Done\n",
      "\n",
      "1.7315447620e-01\n",
      "151669: Running /home/paul/Skripsie/Code/SkripsieCode/cpp/noiseEX/cmake-build-debug/nex /home/paul/Skripsie/Code/SkripsieCode/cpp/noiseEX/testfiles/testTriangularMeshing/triangles/output/loop_test.vtk 1.7315447620e-01\n"
     ]
    },
    {
     "name": "stderr",
     "output_type": "stream",
     "text": [
      "7it [02:07, 18.06s/it]"
     ]
    },
    {
     "name": "stdout",
     "output_type": "stream",
     "text": [
      "151669: Done\n",
      "\n",
      "151669: Meshing geometry\n",
      "\n",
      "151669: Done meshing\n",
      "\n",
      "151669: Running tth settings_washer.json >/dev/null 2>&1\n"
     ]
    },
    {
     "name": "stderr",
     "output_type": "stream",
     "text": [
      "Unknown device \"/dev/sda\": No such file or directory\n"
     ]
    },
    {
     "name": "stdout",
     "output_type": "stream",
     "text": [
      "151669: Done\n",
      "\n",
      "1.6676922061e-01\n",
      "151669: Running /home/paul/Skripsie/Code/SkripsieCode/cpp/noiseEX/cmake-build-debug/nex /home/paul/Skripsie/Code/SkripsieCode/cpp/noiseEX/testfiles/testTriangularMeshing/triangles/output/loop_test.vtk 1.6676922061e-01\n"
     ]
    },
    {
     "name": "stderr",
     "output_type": "stream",
     "text": [
      "8it [02:23, 17.40s/it]"
     ]
    },
    {
     "name": "stdout",
     "output_type": "stream",
     "text": [
      "151669: Done\n",
      "\n",
      "151669: Meshing geometry\n",
      "\n",
      "151669: Done meshing\n",
      "\n",
      "151669: Running tth settings_washer.json >/dev/null 2>&1\n"
     ]
    },
    {
     "name": "stderr",
     "output_type": "stream",
     "text": [
      "Unknown device \"/dev/sda\": No such file or directory\n"
     ]
    },
    {
     "name": "stdout",
     "output_type": "stream",
     "text": [
      "151669: Done\n",
      "\n",
      "1.6057178054e-01\n",
      "151669: Running /home/paul/Skripsie/Code/SkripsieCode/cpp/noiseEX/cmake-build-debug/nex /home/paul/Skripsie/Code/SkripsieCode/cpp/noiseEX/testfiles/testTriangularMeshing/triangles/output/loop_test.vtk 1.6057178054e-01\n"
     ]
    },
    {
     "name": "stderr",
     "output_type": "stream",
     "text": [
      "9it [02:38, 16.72s/it]"
     ]
    },
    {
     "name": "stdout",
     "output_type": "stream",
     "text": [
      "151669: Done\n",
      "\n",
      "151669: Meshing geometry\n",
      "\n",
      "151669: Done meshing\n",
      "\n",
      "151669: Running tth settings_washer.json >/dev/null 2>&1\n"
     ]
    },
    {
     "name": "stderr",
     "output_type": "stream",
     "text": [
      "Unknown device \"/dev/sda\": No such file or directory\n"
     ]
    },
    {
     "name": "stdout",
     "output_type": "stream",
     "text": [
      "151669: Done\n",
      "\n",
      "1.5456624206e-01\n",
      "151669: Running /home/paul/Skripsie/Code/SkripsieCode/cpp/noiseEX/cmake-build-debug/nex /home/paul/Skripsie/Code/SkripsieCode/cpp/noiseEX/testfiles/testTriangularMeshing/triangles/output/loop_test.vtk 1.5456624206e-01\n"
     ]
    },
    {
     "name": "stderr",
     "output_type": "stream",
     "text": [
      "10it [02:54, 16.36s/it]"
     ]
    },
    {
     "name": "stdout",
     "output_type": "stream",
     "text": [
      "151669: Done\n",
      "\n",
      "151669: Meshing geometry\n",
      "\n",
      "151669: Done meshing\n",
      "\n",
      "151669: Running tth settings_washer.json >/dev/null 2>&1\n"
     ]
    },
    {
     "name": "stderr",
     "output_type": "stream",
     "text": [
      "Unknown device \"/dev/sda\": No such file or directory\n"
     ]
    },
    {
     "name": "stdout",
     "output_type": "stream",
     "text": [
      "151669: Done\n",
      "\n",
      "1.4875138742e-01\n",
      "151669: Running /home/paul/Skripsie/Code/SkripsieCode/cpp/noiseEX/cmake-build-debug/nex /home/paul/Skripsie/Code/SkripsieCode/cpp/noiseEX/testfiles/testTriangularMeshing/triangles/output/loop_test.vtk 1.4875138742e-01\n"
     ]
    },
    {
     "name": "stderr",
     "output_type": "stream",
     "text": [
      "11it [03:07, 15.43s/it]"
     ]
    },
    {
     "name": "stdout",
     "output_type": "stream",
     "text": [
      "151669: Done\n",
      "\n",
      "151669: Meshing geometry\n",
      "\n",
      "151669: Done meshing\n",
      "\n",
      "151669: Running tth settings_washer.json >/dev/null 2>&1\n"
     ]
    },
    {
     "name": "stderr",
     "output_type": "stream",
     "text": [
      "Unknown device \"/dev/sda\": No such file or directory\n"
     ]
    },
    {
     "name": "stdout",
     "output_type": "stream",
     "text": [
      "151669: Done\n",
      "\n",
      "1.4309547505e-01\n",
      "151669: Running /home/paul/Skripsie/Code/SkripsieCode/cpp/noiseEX/cmake-build-debug/nex /home/paul/Skripsie/Code/SkripsieCode/cpp/noiseEX/testfiles/testTriangularMeshing/triangles/output/loop_test.vtk 1.4309547505e-01\n"
     ]
    },
    {
     "name": "stderr",
     "output_type": "stream",
     "text": [
      "12it [03:19, 14.43s/it]"
     ]
    },
    {
     "name": "stdout",
     "output_type": "stream",
     "text": [
      "151669: Done\n",
      "\n",
      "151669: Meshing geometry\n",
      "\n",
      "151669: Done meshing\n",
      "\n",
      "151669: Running tth settings_washer.json >/dev/null 2>&1\n"
     ]
    },
    {
     "name": "stderr",
     "output_type": "stream",
     "text": [
      "Unknown device \"/dev/sda\": No such file or directory\n"
     ]
    },
    {
     "name": "stdout",
     "output_type": "stream",
     "text": [
      "151669: Done\n",
      "\n",
      "1.3757972337e-01\n",
      "151669: Running /home/paul/Skripsie/Code/SkripsieCode/cpp/noiseEX/cmake-build-debug/nex /home/paul/Skripsie/Code/SkripsieCode/cpp/noiseEX/testfiles/testTriangularMeshing/triangles/output/loop_test.vtk 1.3757972337e-01\n"
     ]
    },
    {
     "name": "stderr",
     "output_type": "stream",
     "text": [
      "13it [03:30, 13.48s/it]"
     ]
    },
    {
     "name": "stdout",
     "output_type": "stream",
     "text": [
      "151669: Done\n",
      "\n",
      "151669: Meshing geometry\n",
      "\n",
      "151669: Done meshing\n",
      "\n",
      "151669: Running tth settings_washer.json >/dev/null 2>&1\n"
     ]
    },
    {
     "name": "stderr",
     "output_type": "stream",
     "text": [
      "Unknown device \"/dev/sda\": No such file or directory\n"
     ]
    },
    {
     "name": "stdout",
     "output_type": "stream",
     "text": [
      "151669: Done\n",
      "\n",
      "1.3219687043e-01\n",
      "151669: Running /home/paul/Skripsie/Code/SkripsieCode/cpp/noiseEX/cmake-build-debug/nex /home/paul/Skripsie/Code/SkripsieCode/cpp/noiseEX/testfiles/testTriangularMeshing/triangles/output/loop_test.vtk 1.3219687043e-01\n"
     ]
    },
    {
     "name": "stderr",
     "output_type": "stream",
     "text": [
      "14it [03:42, 12.90s/it]"
     ]
    },
    {
     "name": "stdout",
     "output_type": "stream",
     "text": [
      "151669: Done\n",
      "\n",
      "151669: Meshing geometry\n",
      "\n",
      "151669: Done meshing\n",
      "\n",
      "151669: Running tth settings_washer.json >/dev/null 2>&1\n"
     ]
    },
    {
     "name": "stderr",
     "output_type": "stream",
     "text": [
      "Unknown device \"/dev/sda\": No such file or directory\n"
     ]
    },
    {
     "name": "stdout",
     "output_type": "stream",
     "text": [
      "151669: Done\n",
      "\n",
      "1.2691822933e-01\n",
      "151669: Running /home/paul/Skripsie/Code/SkripsieCode/cpp/noiseEX/cmake-build-debug/nex /home/paul/Skripsie/Code/SkripsieCode/cpp/noiseEX/testfiles/testTriangularMeshing/triangles/output/loop_test.vtk 1.2691822933e-01\n"
     ]
    },
    {
     "name": "stderr",
     "output_type": "stream",
     "text": [
      "15it [03:52, 11.89s/it]"
     ]
    },
    {
     "name": "stdout",
     "output_type": "stream",
     "text": [
      "151669: Done\n",
      "\n",
      "151669: Meshing geometry\n",
      "\n",
      "151669: Done meshing\n",
      "\n",
      "151669: Running tth settings_washer.json >/dev/null 2>&1\n"
     ]
    },
    {
     "name": "stderr",
     "output_type": "stream",
     "text": [
      "Unknown device \"/dev/sda\": No such file or directory\n"
     ]
    },
    {
     "name": "stdout",
     "output_type": "stream",
     "text": [
      "151669: Done\n",
      "\n",
      "1.2173620146e-01\n",
      "151669: Running /home/paul/Skripsie/Code/SkripsieCode/cpp/noiseEX/cmake-build-debug/nex /home/paul/Skripsie/Code/SkripsieCode/cpp/noiseEX/testfiles/testTriangularMeshing/triangles/output/loop_test.vtk 1.2173620146e-01\n"
     ]
    },
    {
     "name": "stderr",
     "output_type": "stream",
     "text": [
      "16it [04:01, 11.23s/it]"
     ]
    },
    {
     "name": "stdout",
     "output_type": "stream",
     "text": [
      "151669: Done\n",
      "\n",
      "151669: Meshing geometry\n",
      "\n",
      "151669: Done meshing\n",
      "\n",
      "151669: Running tth settings_washer.json >/dev/null 2>&1\n"
     ]
    },
    {
     "name": "stderr",
     "output_type": "stream",
     "text": [
      "Unknown device \"/dev/sda\": No such file or directory\n"
     ]
    },
    {
     "name": "stdout",
     "output_type": "stream",
     "text": [
      "151669: Done\n",
      "\n",
      "1.1662681495e-01\n",
      "151669: Running /home/paul/Skripsie/Code/SkripsieCode/cpp/noiseEX/cmake-build-debug/nex /home/paul/Skripsie/Code/SkripsieCode/cpp/noiseEX/testfiles/testTriangularMeshing/triangles/output/loop_test.vtk 1.1662681495e-01\n"
     ]
    },
    {
     "name": "stderr",
     "output_type": "stream",
     "text": [
      "17it [04:11, 10.66s/it]"
     ]
    },
    {
     "name": "stdout",
     "output_type": "stream",
     "text": [
      "151669: Done\n",
      "\n",
      "151669: Meshing geometry\n",
      "\n",
      "151669: Done meshing\n",
      "\n",
      "151669: Running tth settings_washer.json >/dev/null 2>&1\n"
     ]
    },
    {
     "name": "stderr",
     "output_type": "stream",
     "text": [
      "Unknown device \"/dev/sda\": No such file or directory\n",
      "18it [04:18,  9.65s/it]"
     ]
    },
    {
     "name": "stdout",
     "output_type": "stream",
     "text": [
      "151669: Done\n",
      "\n",
      "1.1159029960e-01\n",
      "151669: Running /home/paul/Skripsie/Code/SkripsieCode/cpp/noiseEX/cmake-build-debug/nex /home/paul/Skripsie/Code/SkripsieCode/cpp/noiseEX/testfiles/testTriangularMeshing/triangles/output/loop_test.vtk 1.1159029960e-01\n",
      "151669: Done\n",
      "\n",
      "151669: Meshing geometry\n",
      "\n",
      "151669: Done meshing\n",
      "\n",
      "151669: Running tth settings_washer.json >/dev/null 2>&1\n"
     ]
    },
    {
     "name": "stderr",
     "output_type": "stream",
     "text": [
      "Unknown device \"/dev/sda\": No such file or directory\n"
     ]
    },
    {
     "name": "stdout",
     "output_type": "stream",
     "text": [
      "151669: Done\n",
      "\n",
      "1.0657723017e-01\n",
      "151669: Running /home/paul/Skripsie/Code/SkripsieCode/cpp/noiseEX/cmake-build-debug/nex /home/paul/Skripsie/Code/SkripsieCode/cpp/noiseEX/testfiles/testTriangularMeshing/triangles/output/loop_test.vtk 1.0657723017e-01\n"
     ]
    },
    {
     "name": "stderr",
     "output_type": "stream",
     "text": [
      "19it [04:25,  8.97s/it]"
     ]
    },
    {
     "name": "stdout",
     "output_type": "stream",
     "text": [
      "151669: Done\n",
      "\n",
      "151669: Meshing geometry\n",
      "\n",
      "151669: Done meshing\n",
      "\n",
      "151669: Running tth settings_washer.json >/dev/null 2>&1\n"
     ]
    },
    {
     "name": "stderr",
     "output_type": "stream",
     "text": [
      "Unknown device \"/dev/sda\": No such file or directory\n"
     ]
    },
    {
     "name": "stdout",
     "output_type": "stream",
     "text": [
      "151669: Done\n",
      "\n",
      "1.0156672190e-01\n",
      "151669: Running /home/paul/Skripsie/Code/SkripsieCode/cpp/noiseEX/cmake-build-debug/nex /home/paul/Skripsie/Code/SkripsieCode/cpp/noiseEX/testfiles/testTriangularMeshing/triangles/output/loop_test.vtk 1.0156672190e-01\n"
     ]
    },
    {
     "name": "stderr",
     "output_type": "stream",
     "text": [
      "20it [04:32,  8.34s/it]"
     ]
    },
    {
     "name": "stdout",
     "output_type": "stream",
     "text": [
      "151669: Done\n",
      "\n",
      "151669: Meshing geometry\n",
      "\n",
      "151669: Done meshing\n",
      "\n",
      "151669: Running tth settings_washer.json >/dev/null 2>&1\n"
     ]
    },
    {
     "name": "stderr",
     "output_type": "stream",
     "text": [
      "Unknown device \"/dev/sda\": No such file or directory\n",
      "21it [04:38,  7.63s/it]"
     ]
    },
    {
     "name": "stdout",
     "output_type": "stream",
     "text": [
      "151669: Done\n",
      "\n",
      "9.6541743501e-02\n",
      "151669: Running /home/paul/Skripsie/Code/SkripsieCode/cpp/noiseEX/cmake-build-debug/nex /home/paul/Skripsie/Code/SkripsieCode/cpp/noiseEX/testfiles/testTriangularMeshing/triangles/output/loop_test.vtk 9.6541743501e-02\n",
      "151669: Done\n",
      "\n",
      "151669: Meshing geometry\n",
      "\n",
      "151669: Done meshing\n",
      "\n",
      "151669: Running tth settings_washer.json >/dev/null 2>&1\n"
     ]
    },
    {
     "name": "stderr",
     "output_type": "stream",
     "text": [
      "Unknown device \"/dev/sda\": No such file or directory\n",
      "22it [04:44,  6.97s/it]"
     ]
    },
    {
     "name": "stdout",
     "output_type": "stream",
     "text": [
      "151669: Done\n",
      "\n",
      "9.1544749765e-02\n",
      "151669: Running /home/paul/Skripsie/Code/SkripsieCode/cpp/noiseEX/cmake-build-debug/nex /home/paul/Skripsie/Code/SkripsieCode/cpp/noiseEX/testfiles/testTriangularMeshing/triangles/output/loop_test.vtk 9.1544749765e-02\n",
      "151669: Done\n",
      "\n",
      "151669: Meshing geometry\n",
      "\n",
      "151669: Done meshing\n",
      "\n",
      "151669: Running tth settings_washer.json >/dev/null 2>&1\n"
     ]
    },
    {
     "name": "stderr",
     "output_type": "stream",
     "text": [
      "Unknown device \"/dev/sda\": No such file or directory\n",
      "23it [04:50,  6.70s/it]"
     ]
    },
    {
     "name": "stdout",
     "output_type": "stream",
     "text": [
      "151669: Done\n",
      "\n",
      "8.6523946729e-02\n",
      "151669: Running /home/paul/Skripsie/Code/SkripsieCode/cpp/noiseEX/cmake-build-debug/nex /home/paul/Skripsie/Code/SkripsieCode/cpp/noiseEX/testfiles/testTriangularMeshing/triangles/output/loop_test.vtk 8.6523946729e-02\n",
      "151669: Done\n",
      "\n",
      "151669: Meshing geometry\n",
      "\n",
      "151669: Done meshing\n",
      "\n",
      "151669: Running tth settings_washer.json >/dev/null 2>&1\n"
     ]
    },
    {
     "name": "stderr",
     "output_type": "stream",
     "text": [
      "Unknown device \"/dev/sda\": No such file or directory\n",
      "24it [04:56,  6.64s/it]"
     ]
    },
    {
     "name": "stdout",
     "output_type": "stream",
     "text": [
      "151669: Done\n",
      "\n",
      "8.1356224851e-02\n",
      "151669: Running /home/paul/Skripsie/Code/SkripsieCode/cpp/noiseEX/cmake-build-debug/nex /home/paul/Skripsie/Code/SkripsieCode/cpp/noiseEX/testfiles/testTriangularMeshing/triangles/output/loop_test.vtk 8.1356224851e-02\n",
      "151669: Done\n",
      "\n",
      "151669: Meshing geometry\n",
      "\n",
      "151669: Done meshing\n",
      "\n",
      "151669: Running tth settings_washer.json >/dev/null 2>&1\n"
     ]
    },
    {
     "name": "stderr",
     "output_type": "stream",
     "text": [
      "Unknown device \"/dev/sda\": No such file or directory\n"
     ]
    },
    {
     "name": "stdout",
     "output_type": "stream",
     "text": [
      "151669: Done\n",
      "\n",
      "7.5941412894e-02\n",
      "151669: Running /home/paul/Skripsie/Code/SkripsieCode/cpp/noiseEX/cmake-build-debug/nex /home/paul/Skripsie/Code/SkripsieCode/cpp/noiseEX/testfiles/testTriangularMeshing/triangles/output/loop_test.vtk 7.5941412894e-02\n"
     ]
    },
    {
     "name": "stderr",
     "output_type": "stream",
     "text": [
      "25it [05:04,  7.10s/it]"
     ]
    },
    {
     "name": "stdout",
     "output_type": "stream",
     "text": [
      "151669: Done\n",
      "\n",
      "151669: Meshing geometry\n",
      "\n",
      "151669: Done meshing\n",
      "\n",
      "151669: Running tth settings_washer.json >/dev/null 2>&1\n"
     ]
    },
    {
     "name": "stderr",
     "output_type": "stream",
     "text": [
      "Unknown device \"/dev/sda\": No such file or directory\n"
     ]
    },
    {
     "name": "stdout",
     "output_type": "stream",
     "text": [
      "151669: Done\n",
      "\n",
      "7.0156164343e-02\n",
      "151669: Running /home/paul/Skripsie/Code/SkripsieCode/cpp/noiseEX/cmake-build-debug/nex /home/paul/Skripsie/Code/SkripsieCode/cpp/noiseEX/testfiles/testTriangularMeshing/triangles/output/loop_test.vtk 7.0156164343e-02\n"
     ]
    },
    {
     "name": "stderr",
     "output_type": "stream",
     "text": [
      "26it [05:15,  8.04s/it]"
     ]
    },
    {
     "name": "stdout",
     "output_type": "stream",
     "text": [
      "151669: Done\n",
      "\n",
      "151669: Meshing geometry\n",
      "\n",
      "151669: Done meshing\n",
      "\n",
      "151669: Running tth settings_washer.json >/dev/null 2>&1\n"
     ]
    },
    {
     "name": "stderr",
     "output_type": "stream",
     "text": [
      "Unknown device \"/dev/sda\": No such file or directory\n"
     ]
    },
    {
     "name": "stdout",
     "output_type": "stream",
     "text": [
      "151669: Done\n",
      "\n",
      "6.3791115529e-02\n",
      "151669: Running /home/paul/Skripsie/Code/SkripsieCode/cpp/noiseEX/cmake-build-debug/nex /home/paul/Skripsie/Code/SkripsieCode/cpp/noiseEX/testfiles/testTriangularMeshing/triangles/output/loop_test.vtk 6.3791115529e-02\n"
     ]
    },
    {
     "name": "stderr",
     "output_type": "stream",
     "text": [
      "27it [05:27,  9.49s/it]"
     ]
    },
    {
     "name": "stdout",
     "output_type": "stream",
     "text": [
      "151669: Done\n",
      "\n",
      "151669: Meshing geometry\n",
      "\n",
      "151669: Done meshing\n",
      "\n",
      "151669: Running tth settings_washer.json >/dev/null 2>&1\n"
     ]
    },
    {
     "name": "stderr",
     "output_type": "stream",
     "text": [
      "Unknown device \"/dev/sda\": No such file or directory\n"
     ]
    },
    {
     "name": "stdout",
     "output_type": "stream",
     "text": [
      "151669: Done\n",
      "\n",
      "5.6406755629e-02\n",
      "151669: Running /home/paul/Skripsie/Code/SkripsieCode/cpp/noiseEX/cmake-build-debug/nex /home/paul/Skripsie/Code/SkripsieCode/cpp/noiseEX/testfiles/testTriangularMeshing/triangles/output/loop_test.vtk 5.6406755629e-02\n"
     ]
    },
    {
     "name": "stderr",
     "output_type": "stream",
     "text": [
      "28it [05:45, 11.81s/it]"
     ]
    },
    {
     "name": "stdout",
     "output_type": "stream",
     "text": [
      "151669: Done\n",
      "\n",
      "151669: Meshing geometry\n",
      "\n",
      "151669: Done meshing\n",
      "\n",
      "151669: Running tth settings_washer.json >/dev/null 2>&1\n"
     ]
    },
    {
     "name": "stderr",
     "output_type": "stream",
     "text": [
      "Unknown device \"/dev/sda\": No such file or directory\n"
     ]
    },
    {
     "name": "stdout",
     "output_type": "stream",
     "text": [
      "151669: Done\n",
      "\n",
      "4.7088174653e-02\n",
      "151669: Running /home/paul/Skripsie/Code/SkripsieCode/cpp/noiseEX/cmake-build-debug/nex /home/paul/Skripsie/Code/SkripsieCode/cpp/noiseEX/testfiles/testTriangularMeshing/triangles/output/loop_test.vtk 4.7088174653e-02\n"
     ]
    },
    {
     "name": "stderr",
     "output_type": "stream",
     "text": [
      "29it [06:24, 20.07s/it]"
     ]
    },
    {
     "name": "stdout",
     "output_type": "stream",
     "text": [
      "151669: Done\n",
      "\n",
      "151669: Meshing geometry\n",
      "\n",
      "151669: Done meshing\n",
      "\n",
      "151669: Running tth settings_washer.json >/dev/null 2>&1\n"
     ]
    },
    {
     "name": "stderr",
     "output_type": "stream",
     "text": [
      "Unknown device \"/dev/sda\": No such file or directory\n"
     ]
    },
    {
     "name": "stdout",
     "output_type": "stream",
     "text": [
      "151669: Done\n",
      "\n",
      "3.2976186566e-02\n",
      "151669: Running /home/paul/Skripsie/Code/SkripsieCode/cpp/noiseEX/cmake-build-debug/nex /home/paul/Skripsie/Code/SkripsieCode/cpp/noiseEX/testfiles/testTriangularMeshing/triangles/output/loop_test.vtk 3.2976186566e-02\n"
     ]
    },
    {
     "name": "stderr",
     "output_type": "stream",
     "text": [
      "30it [10:33, 21.10s/it]"
     ]
    },
    {
     "name": "stdout",
     "output_type": "stream",
     "text": [
      "151669: Done\n",
      "\n"
     ]
    },
    {
     "name": "stderr",
     "output_type": "stream",
     "text": [
      "\n"
     ]
    }
   ],
   "source": [
    "os.chdir(\"/home/paul/Skripsie/Code/SkripsieCode/cpp/noiseEX/testfiles/testTriangularMeshing/triangles/\")\n",
    "\n",
    "SPIN_DENS = 5e17\n",
    "MU_B = 9.2740100783e-24\n",
    "PHI_0 = 2.067833848e-15\n",
    "MU_0 = 1.25663706212e-6 \t\n",
    "Analytic = lambda R, D : 2/3*MU_0**2*MU_B**2*SPIN_DENS*R/D*1/(PHI_0**2)\n",
    "\n",
    "r1s = np.linspace(30e-6, 40e-6, 30)\n",
    "r2s = np.linspace(5e-6, 0.15e-6, 30)\n",
    "\n",
    "\n",
    "try:\n",
    "    os.remove(\"triangles.csv\")\n",
    "except:\n",
    "    pass\n",
    "\n",
    "res = open(\"triangles.csv\",\"w\")\n",
    "res.write(\"R,D,Analytic,Numerical,Analytic Area,Numerical Area,Mesh Time,TTH Time,nex Time,Num Elements,Num Nodes\\n\")\n",
    "\n",
    "for r1,r2 in tqdm(zip(r1s,r2s)):\n",
    "    writeRadius(r1, r2)\n",
    "    start = time.time()\n",
    "    runGMSH()\n",
    "    end = time.time()\n",
    "    meshTime = end - start\n",
    "\n",
    "    numElem , numNodes = getElementsAndNodeCount()\n",
    "\n",
    "    start = time.time()\n",
    "    runTTH()\n",
    "    end = time.time()\n",
    "    tthTime = end - start\n",
    "    i = getCurrent()\n",
    "    print(i)\n",
    "    start = time.time()\n",
    "    msfn_numerical = runNoiseEx(\"/home/paul/Skripsie/Code/SkripsieCode/cpp/noiseEX/testfiles/testTriangularMeshing/triangles/output/loop_test.vtk\",i)\n",
    "    end = time.time()\n",
    "    nexTime = end - start\n",
    "    numerical_area = msfn_numerical[1]\n",
    "    msfn_numerical = msfn_numerical[0]\n",
    "    msfn_analytical = Analytic(r1,r2*2)\n",
    "    analytic_area = 4*np.pi**2*r1*r2\n",
    "    # write result to file\n",
    "    res.write(f\"{r1},{2*r2},{msfn_analytical},{msfn_numerical},{analytic_area},{numerical_area},{meshTime},{tthTime},{nexTime},{numElem},{numNodes}\\n\")\n",
    "\n",
    "\n",
    "\n",
    "res.close()\n",
    "\n",
    "\n"
   ]
  },
  {
   "cell_type": "markdown",
   "id": "b7d42375",
   "metadata": {},
   "source": [
    "### Tetras:"
   ]
  },
  {
   "cell_type": "code",
   "execution_count": null,
   "id": "766dc027",
   "metadata": {},
   "outputs": [],
   "source": [
    "os.chdir(\"/home/paul/Skripsie/Code/SkripsieCode/cpp/noiseEX/testfiles/testTriangularMeshing/tetra/\")\n",
    "\n",
    "SPIN_DENS = 5e17\n",
    "MU_B = 9.2740100783e-24\n",
    "PHI_0 = 2.067833848e-15\n",
    "MU_0 = 1.25663706212e-6 \t\n",
    "Analytic = lambda R, D : 2/3*MU_0**2*MU_B**2*SPIN_DENS*R/D*1/(PHI_0**2)\n",
    "\n",
    "r1s = np.linspace(30e-6, 40e-6, 30)\n",
    "r2s = np.linspace(5e-6, 0.15e-6, 30)\n",
    "\n",
    "\n",
    "try:\n",
    "    os.remove(\"tetras.csv\")\n",
    "except:\n",
    "    pass\n",
    "\n",
    "res = open(\"tetras.csv\",\"w\")\n",
    "res.write(\"R,D,Analytic,Numerical,Analytic Area,Numerical Area,Mesh Time,TTH Time,nex Time,Num Elements,Num Nodes\\n\")\n",
    "\n",
    "for r1,r2 in tqdm(zip(r1s,r2s)):\n",
    "    writeRadius(r1, r2)\n",
    "    start = time.time()\n",
    "    runGMSH()\n",
    "    end = time.time()\n",
    "    meshTime = end - start\n",
    "\n",
    "    numElem , numNodes = getElementsAndNodeCount()\n",
    "\n",
    "    start = time.time()\n",
    "    runTTH()\n",
    "    end = time.time()\n",
    "    tthTime = end - start\n",
    "    i = getCurrent()\n",
    "    print(i)\n",
    "    start = time.time()\n",
    "    msfn_numerical = runNoiseEx(\"/home/paul/Skripsie/Code/SkripsieCode/cpp/noiseEX/testfiles/testTriangularMeshing/tetra/output/loop_test.vtk\",i)\n",
    "    end = time.time()\n",
    "    nexTime = end - start\n",
    "    numerical_area = msfn_numerical[1]\n",
    "    msfn_numerical = msfn_numerical[0]\n",
    "    msfn_analytical = Analytic(r1,r2*2)\n",
    "    analytic_area = 4*np.pi**2*r1*r2\n",
    "    # write result to file\n",
    "    res.write(f\"{r1},{2*r2},{msfn_analytical},{msfn_numerical},{analytic_area},{numerical_area},{meshTime},{tthTime},{nexTime},{numElem},{numNodes}\\n\")\n",
    "\n",
    "\n",
    "\n",
    "res.close()\n",
    "\n",
    "os.chdir(\"/home/paul/Skripsie/Code/SkripsieCode/cpp/noiseEX/testfiles/testTriangularMeshing/\")"
   ]
  },
  {
   "cell_type": "code",
   "execution_count": null,
   "id": "6df814c0",
   "metadata": {},
   "outputs": [],
   "source": [
    "writeRadius(15e-6,0.2e-6)"
   ]
  },
  {
   "cell_type": "code",
   "execution_count": null,
   "id": "6ed6af1b",
   "metadata": {},
   "outputs": [],
   "source": []
  }
 ],
 "metadata": {
  "kernelspec": {
   "display_name": "Python 3",
   "language": "python",
   "name": "python3"
  },
  "language_info": {
   "codemirror_mode": {
    "name": "ipython",
    "version": 3
   },
   "file_extension": ".py",
   "mimetype": "text/x-python",
   "name": "python",
   "nbconvert_exporter": "python",
   "pygments_lexer": "ipython3",
   "version": "3.10.11"
  }
 },
 "nbformat": 4,
 "nbformat_minor": 5
}
