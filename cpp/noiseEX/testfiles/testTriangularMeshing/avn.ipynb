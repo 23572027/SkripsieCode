{
 "cells": [
  {
   "cell_type": "code",
   "execution_count": 1,
   "metadata": {},
   "outputs": [],
   "source": [
    "import re\n",
    "import os\n",
    "import numpy as np\n",
    "from progress.bar import Bar\n",
    "from tqdm import tqdm\n",
    "import time"
   ]
  },
  {
   "cell_type": "code",
   "execution_count": 4,
   "id": "c6d74f1d",
   "metadata": {},
   "outputs": [],
   "source": [
    "\n",
    "def writeRadius(r1,r2):\n",
    "    lpMesh = open(\"loop.geo\", \"r\")\n",
    "    loopMesh = lpMesh.read()\n",
    "    lpMesh.close()\n",
    "\n",
    "    reg1 = r\"(%r1)\"\n",
    "    reg2 = r\"(%r2)\"\n",
    "\n",
    "    sub1 = str(r1)\n",
    "    sub2 = str(r2)\n",
    "\n",
    "    loopMesh = re.sub(reg1,sub1,loopMesh,0,re.MULTILINE)\n",
    "    loopMesh = re.sub(reg2,sub2,loopMesh,0,re.MULTILINE)\n",
    "\n",
    "    try:\n",
    "        lpTemp = open(\"loopTemp.geo\", \"x\")\n",
    "    except:\n",
    "        os.remove(\"loopTemp.geo\")\n",
    "        lpTemp = open(\"loopTemp.geo\",\"x\")\n",
    "\n",
    "    lpTemp.write(loopMesh)\n",
    "    lpTemp.close()\n",
    "\n",
    "\n",
    "    # write surface mesh\n",
    "    lpMesh = open(\"loopFIELD.geo\", \"r\")\n",
    "    loopMesh = lpMesh.read()\n",
    "    lpMesh.close()\n",
    "    reg1 = r\"(%r1)\"\n",
    "    reg2 = r\"(%r2)\"\n",
    "    sub1 = str(r1)\n",
    "    sub2 = str(r2)\n",
    "    loopMesh = re.sub(reg1,sub1,loopMesh,0,re.MULTILINE)\n",
    "    loopMesh = re.sub(reg2,sub2,loopMesh,0,re.MULTILINE)\n",
    "    try:\n",
    "        lpTemp = open(\"loopFIELDTemp.geo\", \"x\")\n",
    "    except:\n",
    "        os.remove(\"loopFIELDTemp.geo\")\n",
    "        lpTemp = open(\"loopFIELDTemp.geo\",\"x\")\n",
    "    lpTemp.write(loopMesh)\n",
    "    lpTemp.close()\n",
    "\n",
    "def runGMSH():\n",
    "    print(f\"{os.getpid()}: Meshing geometry\\n\")\n",
    "    # os.system(\"gmsh loopFIELDTemp.geo -nopopup -0 -v 1\")\n",
    "    # os.system(\"gmsh loopTemp.geo -nopopup -0 -v 1\")\n",
    "    os.popen(\"gmsh loopFIELDTemp.geo -nopopup -0 -v 1\").read()\n",
    "    os.popen(\"gmsh loopTemp.geo -nopopup -0 -v 1\").read()\n",
    "    try:\n",
    "        os.system(\"rm *.geo_unrolled\")\n",
    "        os.remove(\"loopFIELDTemp.geo\")\n",
    "        os.remove(\"loopTemp.geo\")\n",
    "    except:\n",
    "        print(\"nope\")\n",
    "    print(f\"{os.getpid()}: Done meshing\\n\")\n",
    "\n",
    "\n",
    "def runTTH():\n",
    "    print(f\"{os.getpid()}: Running tth settings_washer.json >/dev/null 2>&1\")\n",
    "    os.system(\"tth settings_washer.json >/dev/null 2>&1\")\n",
    "    print(f\"{os.getpid()}: Done\\n\")\n",
    "\n",
    "\n",
    "def getCurrent():\n",
    "    iFile = open(\"./output/i.txt\")\n",
    "    it = iFile.read()\n",
    "    iFile.close()\n",
    "    reg = r\"fone fone .+ (\\d*\\.\\d*e.\\d*)\"\n",
    "    i_s = re.findall(reg,it,re.MULTILINE)[0]\n",
    "    return i_s\n",
    "    \n",
    "def runNoiseEx(b_path,current):\n",
    "    path = \"/home/paul/Skripsie/Code/SkripsieCode/cpp/noiseEX/cmake-build-debug/nex\"\n",
    "    print(f\"{os.getpid()}: Running \"+path+\" \"+b_path+\" \"+current)\n",
    "    v = os.popen(path+\" \"+b_path+\" \"+current).read()\n",
    "    print(f\"{os.getpid()}: Done\\n\")\n",
    "    v = v.split(\"\\n\")\n",
    "    return v\n",
    "\n",
    "def getElementsAndNodeCount():\n",
    "    iFile = open(\"./loop.msh\")\n",
    "    it = iFile.read()\n",
    "    iFile.close()\n",
    "    regNumNodes = r\"\\$Nodes\\n(.*)\\n\"\n",
    "    numNodes = re.findall(regNumNodes,it,re.MULTILINE)[0]\n",
    "    regNumElem = r\"\\$Elements\\n(.*)\\n\"\n",
    "    numElem = re.findall(regNumElem,it,re.MULTILINE)[0]\n",
    "\n",
    "    return numElem, numNodes\n",
    "\n"
   ]
  },
  {
   "cell_type": "markdown",
   "id": "625e2380",
   "metadata": {},
   "source": [
    "### Triangles:"
   ]
  },
  {
   "cell_type": "code",
   "execution_count": 6,
   "id": "a4c64452",
   "metadata": {},
   "outputs": [
    {
     "name": "stderr",
     "output_type": "stream",
     "text": [
      "  0%|          | 0/5 [00:00<?, ?it/s]"
     ]
    },
    {
     "name": "stdout",
     "output_type": "stream",
     "text": [
      "27992: Meshing geometry\n",
      "\n",
      "27992: Done meshing\n",
      "\n",
      "27992: Running tth settings_washer.json >/dev/null 2>&1\n",
      "27992: Done\n",
      "\n",
      "1.4660638549e-01\n",
      "27992: Running /home/paul/Skripsie/Code/SkripsieCode/cpp/noiseEX/cmake-build-debug/nex /home/paul/Skripsie/Code/SkripsieCode/cpp/noiseEX/testfiles/testTriangularMeshing/triangles/output/loop_test.vtk 1.4660638549e-01\n"
     ]
    },
    {
     "name": "stderr",
     "output_type": "stream",
     "text": [
      " 20%|██        | 1/5 [00:20<01:20, 20.07s/it]"
     ]
    },
    {
     "name": "stdout",
     "output_type": "stream",
     "text": [
      "27992: Done\n",
      "\n",
      "27992: Meshing geometry\n",
      "\n",
      "27992: Done meshing\n",
      "\n",
      "27992: Running tth settings_washer.json >/dev/null 2>&1\n",
      "27992: Done\n",
      "\n",
      "1.1281031481e-01\n",
      "27992: Running /home/paul/Skripsie/Code/SkripsieCode/cpp/noiseEX/cmake-build-debug/nex /home/paul/Skripsie/Code/SkripsieCode/cpp/noiseEX/testfiles/testTriangularMeshing/triangles/output/loop_test.vtk 1.1281031481e-01\n"
     ]
    },
    {
     "name": "stderr",
     "output_type": "stream",
     "text": [
      " 40%|████      | 2/5 [00:51<01:20, 26.82s/it]"
     ]
    },
    {
     "name": "stdout",
     "output_type": "stream",
     "text": [
      "27992: Done\n",
      "\n",
      "27992: Meshing geometry\n",
      "\n",
      "27992: Done meshing\n",
      "\n",
      "27992: Running tth settings_washer.json >/dev/null 2>&1\n",
      "27992: Done\n",
      "\n",
      "9.1246899736e-02\n",
      "27992: Running /home/paul/Skripsie/Code/SkripsieCode/cpp/noiseEX/cmake-build-debug/nex /home/paul/Skripsie/Code/SkripsieCode/cpp/noiseEX/testfiles/testTriangularMeshing/triangles/output/loop_test.vtk 9.1246899736e-02\n"
     ]
    },
    {
     "name": "stderr",
     "output_type": "stream",
     "text": [
      " 60%|██████    | 3/5 [01:35<01:08, 34.47s/it]"
     ]
    },
    {
     "name": "stdout",
     "output_type": "stream",
     "text": [
      "27992: Done\n",
      "\n",
      "27992: Meshing geometry\n",
      "\n",
      "27992: Done meshing\n",
      "\n",
      "27992: Running tth settings_washer.json >/dev/null 2>&1\n",
      "27992: Done\n",
      "\n",
      "7.6322413658e-02\n",
      "27992: Running /home/paul/Skripsie/Code/SkripsieCode/cpp/noiseEX/cmake-build-debug/nex /home/paul/Skripsie/Code/SkripsieCode/cpp/noiseEX/testfiles/testTriangularMeshing/triangles/output/loop_test.vtk 7.6322413658e-02\n"
     ]
    },
    {
     "name": "stderr",
     "output_type": "stream",
     "text": [
      " 80%|████████  | 4/5 [02:33<00:43, 43.98s/it]"
     ]
    },
    {
     "name": "stdout",
     "output_type": "stream",
     "text": [
      "27992: Done\n",
      "\n",
      "27992: Meshing geometry\n",
      "\n",
      "27992: Done meshing\n",
      "\n",
      "27992: Running tth settings_washer.json >/dev/null 2>&1\n",
      "27992: Done\n",
      "\n",
      "6.5405158233e-02\n",
      "27992: Running /home/paul/Skripsie/Code/SkripsieCode/cpp/noiseEX/cmake-build-debug/nex /home/paul/Skripsie/Code/SkripsieCode/cpp/noiseEX/testfiles/testTriangularMeshing/triangles/output/loop_test.vtk 6.5405158233e-02\n"
     ]
    },
    {
     "name": "stderr",
     "output_type": "stream",
     "text": [
      "100%|██████████| 5/5 [03:50<00:00, 46.20s/it]"
     ]
    },
    {
     "name": "stdout",
     "output_type": "stream",
     "text": [
      "27992: Done\n",
      "\n"
     ]
    },
    {
     "name": "stderr",
     "output_type": "stream",
     "text": [
      "\n"
     ]
    }
   ],
   "source": [
    "os.chdir(\"/home/paul/Skripsie/Code/SkripsieCode/cpp/noiseEX/testfiles/testTriangularMeshing/triangles/\")\n",
    "\n",
    "SPIN_DENS = 5e17\n",
    "MU_B = 9.2740100783e-24\n",
    "PHI_0 = 2.067833848e-15\n",
    "MU_0 = 1.25663706212e-6 \t\n",
    "Analytic = lambda R, D : 2/3*MU_0**2*MU_B**2*SPIN_DENS*R/D*1/(PHI_0**2)\n",
    "\n",
    "r1s = np.linspace(15e-6, 30e-6, 5)\n",
    "r2 = 0.2e-6\n",
    "\n",
    "\n",
    "try:\n",
    "    os.remove(\"triangles.csv\")\n",
    "except:\n",
    "    pass\n",
    "\n",
    "res = open(\"triangles.csv\",\"w\")\n",
    "res.write(\"R,D,Analytic,Numerical,Analytic Area,Numerical Area,Mesh Time,TTH Time,nex Time,Num Elements,Num Nodes\\n\")\n",
    "\n",
    "for r1 in tqdm(r1s):\n",
    "    writeRadius(r1, r2)\n",
    "    start = time.time()\n",
    "    runGMSH()\n",
    "    end = time.time()\n",
    "    meshTime = end - start\n",
    "\n",
    "    numElem , numNodes = getElementsAndNodeCount()\n",
    "\n",
    "    start = time.time()\n",
    "    runTTH()\n",
    "    end = time.time()\n",
    "    tthTime = end - start\n",
    "    i = getCurrent()\n",
    "    print(i)\n",
    "    start = time.time()\n",
    "    msfn_numerical = runNoiseEx(\"/home/paul/Skripsie/Code/SkripsieCode/cpp/noiseEX/testfiles/testTriangularMeshing/triangles/output/loop_test.vtk\",i)\n",
    "    end = time.time()\n",
    "    nexTime = end - start\n",
    "    numerical_area = msfn_numerical[1]\n",
    "    msfn_numerical = msfn_numerical[0]\n",
    "    msfn_analytical = Analytic(r1,r2*2)\n",
    "    analytic_area = 4*np.pi**2*r1*r2\n",
    "    # write result to file\n",
    "    res.write(f\"{r1},{2*r2},{msfn_analytical},{msfn_numerical},{analytic_area},{numerical_area},{meshTime},{tthTime},{nexTime},{numElem},{numNodes}\\n\")\n",
    "\n",
    "\n",
    "\n",
    "res.close()"
   ]
  },
  {
   "cell_type": "markdown",
   "id": "b7d42375",
   "metadata": {},
   "source": [
    "### Tetras:"
   ]
  },
  {
   "cell_type": "code",
   "execution_count": 7,
   "id": "766dc027",
   "metadata": {},
   "outputs": [
    {
     "name": "stderr",
     "output_type": "stream",
     "text": [
      "  0%|          | 0/5 [00:00<?, ?it/s]"
     ]
    },
    {
     "name": "stdout",
     "output_type": "stream",
     "text": [
      "27992: Meshing geometry\n",
      "\n",
      "27992: Done meshing\n",
      "\n",
      "27992: Running tth settings_washer.json >/dev/null 2>&1\n",
      "27992: Done\n",
      "\n",
      "1.0943227870e-01\n",
      "27992: Running /home/paul/Skripsie/Code/SkripsieCode/cpp/noiseEX/cmake-build-debug/nex /home/paul/Skripsie/Code/SkripsieCode/cpp/noiseEX/testfiles/testTriangularMeshing/tetra/output/loop_test.vtk 1.0943227870e-01\n"
     ]
    },
    {
     "name": "stderr",
     "output_type": "stream",
     "text": [
      " 20%|██        | 1/5 [00:32<02:09, 32.29s/it]"
     ]
    },
    {
     "name": "stdout",
     "output_type": "stream",
     "text": [
      "27992: Done\n",
      "\n",
      "27992: Meshing geometry\n",
      "\n",
      "27992: Done meshing\n",
      "\n",
      "27992: Running tth settings_washer.json >/dev/null 2>&1\n",
      "27992: Done\n",
      "\n",
      "8.5015196732e-02\n",
      "27992: Running /home/paul/Skripsie/Code/SkripsieCode/cpp/noiseEX/cmake-build-debug/nex /home/paul/Skripsie/Code/SkripsieCode/cpp/noiseEX/testfiles/testTriangularMeshing/tetra/output/loop_test.vtk 8.5015196732e-02\n"
     ]
    },
    {
     "name": "stderr",
     "output_type": "stream",
     "text": [
      " 40%|████      | 2/5 [01:20<02:04, 41.42s/it]"
     ]
    },
    {
     "name": "stdout",
     "output_type": "stream",
     "text": [
      "27992: Done\n",
      "\n",
      "27992: Meshing geometry\n",
      "\n",
      "27992: Done meshing\n",
      "\n",
      "27992: Running tth settings_washer.json >/dev/null 2>&1\n",
      "27992: Done\n",
      "\n",
      "6.9237699124e-02\n",
      "27992: Running /home/paul/Skripsie/Code/SkripsieCode/cpp/noiseEX/cmake-build-debug/nex /home/paul/Skripsie/Code/SkripsieCode/cpp/noiseEX/testfiles/testTriangularMeshing/tetra/output/loop_test.vtk 6.9237699124e-02\n"
     ]
    },
    {
     "name": "stderr",
     "output_type": "stream",
     "text": [
      " 60%|██████    | 3/5 [02:23<01:42, 51.43s/it]"
     ]
    },
    {
     "name": "stdout",
     "output_type": "stream",
     "text": [
      "27992: Done\n",
      "\n",
      "27992: Meshing geometry\n",
      "\n",
      "27992: Done meshing\n",
      "\n",
      "27992: Running tth settings_washer.json >/dev/null 2>&1\n",
      "27992: Done\n",
      "\n",
      "5.8251250161e-02\n",
      "27992: Running /home/paul/Skripsie/Code/SkripsieCode/cpp/noiseEX/cmake-build-debug/nex /home/paul/Skripsie/Code/SkripsieCode/cpp/noiseEX/testfiles/testTriangularMeshing/tetra/output/loop_test.vtk 5.8251250161e-02\n"
     ]
    },
    {
     "name": "stderr",
     "output_type": "stream",
     "text": [
      " 80%|████████  | 4/5 [03:46<01:03, 63.76s/it]"
     ]
    },
    {
     "name": "stdout",
     "output_type": "stream",
     "text": [
      "27992: Done\n",
      "\n",
      "27992: Meshing geometry\n",
      "\n",
      "27992: Done meshing\n",
      "\n",
      "27992: Running tth settings_washer.json >/dev/null 2>&1\n",
      "27992: Done\n",
      "\n",
      "5.0158929349e-02\n",
      "27992: Running /home/paul/Skripsie/Code/SkripsieCode/cpp/noiseEX/cmake-build-debug/nex /home/paul/Skripsie/Code/SkripsieCode/cpp/noiseEX/testfiles/testTriangularMeshing/tetra/output/loop_test.vtk 5.0158929349e-02\n"
     ]
    },
    {
     "name": "stderr",
     "output_type": "stream",
     "text": [
      "100%|██████████| 5/5 [05:26<00:00, 65.30s/it]"
     ]
    },
    {
     "name": "stdout",
     "output_type": "stream",
     "text": [
      "27992: Done\n",
      "\n"
     ]
    },
    {
     "name": "stderr",
     "output_type": "stream",
     "text": [
      "\n"
     ]
    }
   ],
   "source": [
    "os.chdir(\"/home/paul/Skripsie/Code/SkripsieCode/cpp/noiseEX/testfiles/testTriangularMeshing/tetra/\")\n",
    "\n",
    "SPIN_DENS = 5e17\n",
    "MU_B = 9.2740100783e-24\n",
    "PHI_0 = 2.067833848e-15\n",
    "MU_0 = 1.25663706212e-6 \t\n",
    "Analytic = lambda R, D : 2/3*MU_0**2*MU_B**2*SPIN_DENS*R/D*1/(PHI_0**2)\n",
    "\n",
    "r1s = np.linspace(15e-6, 30e-6, 5)\n",
    "r2 = 0.2e-6\n",
    "\n",
    "\n",
    "try:\n",
    "    os.remove(\"tetras.csv\")\n",
    "except:\n",
    "    pass\n",
    "\n",
    "res = open(\"tetras.csv\",\"w\")\n",
    "res.write(\"R,D,Analytic,Numerical,Analytic Area,Numerical Area,Mesh Time,TTH Time,nex Time,Num Elements,Num Nodes\\n\")\n",
    "\n",
    "for r1 in tqdm(r1s):\n",
    "    writeRadius(r1, r2)\n",
    "    start = time.time()\n",
    "    runGMSH()\n",
    "    end = time.time()\n",
    "    meshTime = end - start\n",
    "\n",
    "    numElem , numNodes = getElementsAndNodeCount()\n",
    "\n",
    "    start = time.time()\n",
    "    runTTH()\n",
    "    end = time.time()\n",
    "    tthTime = end - start\n",
    "    i = getCurrent()\n",
    "    print(i)\n",
    "    start = time.time()\n",
    "    msfn_numerical = runNoiseEx(\"/home/paul/Skripsie/Code/SkripsieCode/cpp/noiseEX/testfiles/testTriangularMeshing/tetra/output/loop_test.vtk\",i)\n",
    "    end = time.time()\n",
    "    nexTime = end - start\n",
    "    numerical_area = msfn_numerical[1]\n",
    "    msfn_numerical = msfn_numerical[0]\n",
    "    msfn_analytical = Analytic(r1,r2*2)\n",
    "    analytic_area = 4*np.pi**2*r1*r2\n",
    "    # write result to file\n",
    "    res.write(f\"{r1},{2*r2},{msfn_analytical},{msfn_numerical},{analytic_area},{numerical_area},{meshTime},{tthTime},{nexTime},{numElem},{numNodes}\\n\")\n",
    "\n",
    "\n",
    "\n",
    "res.close()\n",
    "\n",
    "os.chdir(\"/home/paul/Skripsie/Code/SkripsieCode/cpp/noiseEX/testfiles/testTriangularMeshing/\")"
   ]
  },
  {
   "cell_type": "code",
   "execution_count": 5,
   "id": "6df814c0",
   "metadata": {},
   "outputs": [],
   "source": [
    "writeRadius(15e-6,0.2e-6)"
   ]
  },
  {
   "cell_type": "code",
   "execution_count": null,
   "id": "6ed6af1b",
   "metadata": {},
   "outputs": [],
   "source": []
  }
 ],
 "metadata": {
  "kernelspec": {
   "display_name": "Python 3",
   "language": "python",
   "name": "python3"
  },
  "language_info": {
   "codemirror_mode": {
    "name": "ipython",
    "version": 3
   },
   "file_extension": ".py",
   "mimetype": "text/x-python",
   "name": "python",
   "nbconvert_exporter": "python",
   "pygments_lexer": "ipython3",
   "version": "3.10.11"
  }
 },
 "nbformat": 4,
 "nbformat_minor": 5
}
