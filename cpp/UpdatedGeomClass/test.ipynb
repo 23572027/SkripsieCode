{
 "cells": [
  {
   "cell_type": "code",
   "execution_count": 3,
   "metadata": {},
   "outputs": [
    {
     "data": {
      "text/plain": [
       "array([[34, 17, 13],\n",
       "       [33, 10, 18],\n",
       "       [33, 18,  9],\n",
       "       [32,  7, 19],\n",
       "       [32, 19,  6],\n",
       "       [20, 16, 31],\n",
       "       [ 4, 20, 31],\n",
       "       [21, 23,  5],\n",
       "       [ 1, 23, 21],\n",
       "       [ 8, 24, 25],\n",
       "       [25, 24, 35],\n",
       "       [12, 26, 27],\n",
       "       [27, 26,  3],\n",
       "       [28, 29, 15],\n",
       "       [ 2, 29, 28],\n",
       "       [14, 29, 17],\n",
       "       [17, 29, 30],\n",
       "       [20, 28, 16],\n",
       "       [22, 28, 20],\n",
       "       [ 7, 25, 19],\n",
       "       [19, 25, 11],\n",
       "       [10, 27, 18],\n",
       "       [18, 27,  0],\n",
       "       [ 0, 35, 24],\n",
       "       [ 8,  9, 24],\n",
       "       [ 4, 23, 20],\n",
       "       [11, 21, 19],\n",
       "       [27,  3,  0],\n",
       "       [27, 10, 12],\n",
       "       [20, 23, 22],\n",
       "       [19, 21,  6],\n",
       "       [11,  1, 21],\n",
       "       [ 5,  6, 21],\n",
       "       [ 0, 24, 18],\n",
       "       [18, 24,  9],\n",
       "       [17, 26, 13],\n",
       "       [30, 26, 17],\n",
       "       [25,  7,  8],\n",
       "       [25, 35, 11],\n",
       "       [23,  1, 22],\n",
       "       [23,  4,  5],\n",
       "       [29, 14, 15],\n",
       "       [29,  2, 30],\n",
       "       [22,  2, 28],\n",
       "       [15, 16, 28],\n",
       "       [30,  3, 26],\n",
       "       [12, 13, 26]])"
      ]
     },
     "execution_count": 3,
     "metadata": {},
     "output_type": "execute_result"
    }
   ],
   "source": [
    "import pandas as pd\n",
    "\n",
    "df = pd.read_csv(\"test.txt\", sep=\" \");\n",
    "\n",
    "l = df.to_numpy()\n",
    "l"
   ]
  },
  {
   "cell_type": "code",
   "execution_count": 5,
   "metadata": {},
   "outputs": [
    {
     "data": {
      "text/plain": [
       "array([0, 0, 0, 0])"
      ]
     },
     "execution_count": 5,
     "metadata": {},
     "output_type": "execute_result"
    }
   ],
   "source": []
  }
 ],
 "metadata": {
  "kernelspec": {
   "display_name": "Python 3",
   "language": "python",
   "name": "python3"
  },
  "language_info": {
   "codemirror_mode": {
    "name": "ipython",
    "version": 3
   },
   "file_extension": ".py",
   "mimetype": "text/x-python",
   "name": "python",
   "nbconvert_exporter": "python",
   "pygments_lexer": "ipython3",
   "version": "3.10.11"
  },
  "orig_nbformat": 4
 },
 "nbformat": 4,
 "nbformat_minor": 2
}
