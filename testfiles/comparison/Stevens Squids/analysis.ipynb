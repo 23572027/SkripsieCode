{
 "cells": [
  {
   "cell_type": "code",
   "execution_count": 8,
   "metadata": {},
   "outputs": [],
   "source": [
    "import numpy as np\n",
    "import matplotlib.pyplot as plt\n",
    "import pandas as pd\n",
    "import seaborn as sns\n",
    "import pyperclip"
   ]
  },
  {
   "cell_type": "code",
   "execution_count": 2,
   "metadata": {},
   "outputs": [
    {
     "data": {
      "text/html": [
       "<div>\n",
       "<style scoped>\n",
       "    .dataframe tbody tr th:only-of-type {\n",
       "        vertical-align: middle;\n",
       "    }\n",
       "\n",
       "    .dataframe tbody tr th {\n",
       "        vertical-align: top;\n",
       "    }\n",
       "\n",
       "    .dataframe thead th {\n",
       "        text-align: right;\n",
       "    }\n",
       "</style>\n",
       "<table border=\"1\" class=\"dataframe\">\n",
       "  <thead>\n",
       "    <tr style=\"text-align: right;\">\n",
       "      <th></th>\n",
       "      <th>simiter</th>\n",
       "      <th>remiter</th>\n",
       "      <th>R</th>\n",
       "      <th>W</th>\n",
       "      <th>numerical</th>\n",
       "      <th>elementcount</th>\n",
       "      <th>nodecount</th>\n",
       "      <th>meshtime</th>\n",
       "      <th>tthtime</th>\n",
       "      <th>nextime</th>\n",
       "    </tr>\n",
       "  </thead>\n",
       "  <tbody>\n",
       "    <tr>\n",
       "      <th>4</th>\n",
       "      <td>0</td>\n",
       "      <td>4</td>\n",
       "      <td>0.000012</td>\n",
       "      <td>5.000000e-07</td>\n",
       "      <td>1.119240e-07</td>\n",
       "      <td>6735</td>\n",
       "      <td>2218</td>\n",
       "      <td>3.290322</td>\n",
       "      <td>4.469945</td>\n",
       "      <td>0.176883</td>\n",
       "    </tr>\n",
       "    <tr>\n",
       "      <th>9</th>\n",
       "      <td>1</td>\n",
       "      <td>4</td>\n",
       "      <td>0.000006</td>\n",
       "      <td>5.000000e-07</td>\n",
       "      <td>8.801860e-08</td>\n",
       "      <td>44243</td>\n",
       "      <td>12812</td>\n",
       "      <td>9.860524</td>\n",
       "      <td>0.536000</td>\n",
       "      <td>0.137538</td>\n",
       "    </tr>\n",
       "    <tr>\n",
       "      <th>14</th>\n",
       "      <td>2</td>\n",
       "      <td>4</td>\n",
       "      <td>0.000003</td>\n",
       "      <td>5.000000e-07</td>\n",
       "      <td>1.217710e-10</td>\n",
       "      <td>78233</td>\n",
       "      <td>20018</td>\n",
       "      <td>17.179424</td>\n",
       "      <td>167.229392</td>\n",
       "      <td>0.740875</td>\n",
       "    </tr>\n",
       "  </tbody>\n",
       "</table>\n",
       "</div>"
      ],
      "text/plain": [
       "    simiter  remiter         R             W     numerical  elementcount  \\\n",
       "4         0        4  0.000012  5.000000e-07  1.119240e-07          6735   \n",
       "9         1        4  0.000006  5.000000e-07  8.801860e-08         44243   \n",
       "14        2        4  0.000003  5.000000e-07  1.217710e-10         78233   \n",
       "\n",
       "    nodecount   meshtime     tthtime   nextime  \n",
       "4        2218   3.290322    4.469945  0.176883  \n",
       "9       12812   9.860524    0.536000  0.137538  \n",
       "14      20018  17.179424  167.229392  0.740875  "
      ]
     },
     "execution_count": 2,
     "metadata": {},
     "output_type": "execute_result"
    }
   ],
   "source": [
    "res = pd.read_csv(\"steveS1.csv\")\n",
    "r4 = res[res[\"remiter\"] == 4]\n",
    "r4"
   ]
  },
  {
   "cell_type": "code",
   "execution_count": 34,
   "metadata": {},
   "outputs": [],
   "source": [
    "steveresS1 = {\n",
    "    \"SQUID Number\" : [\"I.1\",\"I.2\",\"I.3\"],\n",
    "    \"R\" : [12,6,3],\n",
    "    \"W\" : [0.5,0.5,0.5],\n",
    "    \"MSFN (measured)\" : [4.5e-9, 3e-9,1.2e-9],\n",
    "    \"MSFN (numerical)\" : [1.119240e-07,8.801860e-08,1.217710e-10],\n",
    "}\n",
    "steveresS2 = {\n",
    "    \"SQUID Number\" : [\"II.1\",\"II.3\",\"II.5\"],\n",
    "    \"R\" : [265,85,40],\n",
    "    \"W\" : [240,60,15],\n",
    "    \"MSFN (measured)\" : [2e-9, 8e-10,1e-9],\n",
    "    \"MSFN (numerical)\" : [9.8736e-11, 4.315480e-11,1.104980e-10],\n",
    "}\n",
    "\n",
    "s1 = pd.DataFrame(steveresS1,index=[0,1,2])\n",
    "s2 = pd.DataFrame(steveresS2,index=[3,4,5])\n",
    "\n",
    "s_comb = pd.concat((s1,s2))\n",
    "s_comb[\"MSFN (measured)\"] = s_comb[\"MSFN (measured)\"] * 1e9\n",
    "s_comb[\"MSFN (numerical)\"] = s_comb[\"MSFN (numerical)\"] * 1e9\n",
    "pyperclip.copy(s_comb.sort_values(by=\"MSFN (numerical)\",ascending=False).style.to_latex())"
   ]
  },
  {
   "cell_type": "code",
   "execution_count": null,
   "metadata": {},
   "outputs": [],
   "source": [
    "\\begin{tabular}{llrrrr}\n",
    " & SQUID Number & R & W & MSFN (measured) & MSFN (numerical) \\\\\n",
    "0 & I.1 & 12 & 0.500000 & 4500.000000 & 111924.000000 \\\\\n",
    "1 & I.2 & 6 & 0.500000 & 3000.000000 & 88018.600000 \\\\\n",
    "2 & I.3 & 3 & 0.500000 & 1200.000000 & 121.771000 \\\\\n",
    "5 & II.5 & 40 & 15.000000 & 1000.000000 & 110.498000 \\\\\n",
    "3 & II.1 & 265 & 240.000000 & 2000.000000 & 98.736000 \\\\\n",
    "4 & II.3 & 85 & 60.000000 & 800.000000 & 43.154800 \\\\\n",
    "\\end{tabular}\n"
   ]
  }
 ],
 "metadata": {
  "kernelspec": {
   "display_name": "Python 3",
   "language": "python",
   "name": "python3"
  },
  "language_info": {
   "codemirror_mode": {
    "name": "ipython",
    "version": 3
   },
   "file_extension": ".py",
   "mimetype": "text/x-python",
   "name": "python",
   "nbconvert_exporter": "python",
   "pygments_lexer": "ipython3",
   "version": "3.10.11"
  }
 },
 "nbformat": 4,
 "nbformat_minor": 2
}
