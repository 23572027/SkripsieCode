{
 "cells": [
  {
   "cell_type": "code",
   "execution_count": 1,
   "metadata": {},
   "outputs": [],
   "source": [
    "import numpy as np\n",
    "from testing import *\n",
    "import pandas as pd\n",
    "import os\n",
    "import re\n",
    "import time"
   ]
  },
  {
   "cell_type": "code",
   "execution_count": 2,
   "metadata": {},
   "outputs": [],
   "source": [
    "path = os.getcwd()\n",
    "\n",
    "\n",
    "def getPtCount(file):\n",
    "    f = open(file,\"r\")\n",
    "    fs = f.read()\n",
    "    f.close()\n",
    "    reg = r\"fone fone .+ (\\d*\\.\\d*e.\\d*)\"\n",
    "    pts = re.findall(reg,fs,re.MULTILINE)[0]\n",
    "    return pts\n"
   ]
  },
  {
   "cell_type": "markdown",
   "metadata": {},
   "source": [
    "### Extract data and run nex"
   ]
  },
  {
   "cell_type": "code",
   "execution_count": 9,
   "metadata": {},
   "outputs": [],
   "source": [
    "try:\n",
    "    os.remove(\"bd.csv\")\n",
    "except:\n",
    "    pass\n",
    "\n",
    "res = open(\"bd.csv\",\"w\")\n",
    "\n",
    "res.write(\"sim,msfn,nextime\\n\")\n",
    "\n",
    "for i in range(10):\n",
    "    os.chdir(f\"{path}/test{i}\")\n",
    "    \n",
    "    \n",
    "    curr = readCurrent(\"./output/i.txt\")\n",
    "\n",
    "    start = time()\n",
    "    msfn = runNoiseEx(\"./output/loop_test.vtk\",curr)[0]\n",
    "    end = time()\n",
    "\n",
    "    res.write(f\"{i},{msfn},{end-start}\\n\")\n",
    "\n",
    "    os.chdir(path)\n",
    "\n",
    "\n",
    "res.close()"
   ]
  },
  {
   "cell_type": "code",
   "execution_count": null,
   "metadata": {},
   "outputs": [],
   "source": []
  }
 ],
 "metadata": {
  "kernelspec": {
   "display_name": "Python 3",
   "language": "python",
   "name": "python3"
  },
  "language_info": {
   "codemirror_mode": {
    "name": "ipython",
    "version": 3
   },
   "file_extension": ".py",
   "mimetype": "text/x-python",
   "name": "python",
   "nbconvert_exporter": "python",
   "pygments_lexer": "ipython3",
   "version": "3.10.11"
  }
 },
 "nbformat": 4,
 "nbformat_minor": 2
}
